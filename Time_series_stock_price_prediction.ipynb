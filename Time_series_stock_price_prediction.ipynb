{
  "nbformat": 4,
  "nbformat_minor": 0,
  "metadata": {
    "colab": {
      "provenance": [],
      "authorship_tag": "ABX9TyMSPMqmQe25RsiHfQXiU5h8",
      "include_colab_link": true
    },
    "kernelspec": {
      "name": "python3",
      "display_name": "Python 3"
    },
    "language_info": {
      "name": "python"
    }
  },
  "cells": [
    {
      "cell_type": "markdown",
      "metadata": {
        "id": "view-in-github",
        "colab_type": "text"
      },
      "source": [
        "<a href=\"https://colab.research.google.com/github/roshan10597/time-series-analysis/blob/main/Time_series_stock_price_prediction.ipynb\" target=\"_parent\"><img src=\"https://colab.research.google.com/assets/colab-badge.svg\" alt=\"Open In Colab\"/></a>"
      ]
    },
    {
      "cell_type": "code",
      "execution_count": 1,
      "metadata": {
        "id": "ZOS14z50I0te"
      },
      "outputs": [],
      "source": [
        "### Data Collection\n",
        "import pandas_datareader as pdr\n",
        "key=''   #GET THIS API KEY FROM THE TIINGO WEBSITE UNDER AUTHENTICATION TAB"
      ]
    },
    {
      "cell_type": "code",
      "source": [
        "df = pdr.get_data_tiingo('TSLA', api_key=key)"
      ],
      "metadata": {
        "colab": {
          "base_uri": "https://localhost:8080/"
        },
        "id": "puTIR6nkI8q3",
        "outputId": "28d16470-cf3f-43fd-a754-13773c05db48"
      },
      "execution_count": 2,
      "outputs": [
        {
          "output_type": "stream",
          "name": "stderr",
          "text": [
            "/usr/local/lib/python3.8/dist-packages/pandas_datareader/tiingo.py:234: FutureWarning: In a future version of pandas all arguments of concat except for the argument 'objs' will be keyword-only\n",
            "  return pd.concat(dfs, self._concat_axis)\n"
          ]
        }
      ]
    },
    {
      "cell_type": "code",
      "source": [
        "df.to_csv('tesla.csv')"
      ],
      "metadata": {
        "id": "6A_H34djJHJv"
      },
      "execution_count": 3,
      "outputs": []
    },
    {
      "cell_type": "code",
      "source": [
        "import pandas as pd"
      ],
      "metadata": {
        "id": "wXmiVaxnJNYU"
      },
      "execution_count": 4,
      "outputs": []
    },
    {
      "cell_type": "code",
      "source": [
        "df=pd.read_csv(\"tesla.csv\")"
      ],
      "metadata": {
        "id": "C1PfDhAmJQRc"
      },
      "execution_count": 5,
      "outputs": []
    },
    {
      "cell_type": "code",
      "source": [
        "df.head()"
      ],
      "metadata": {
        "colab": {
          "base_uri": "https://localhost:8080/",
          "height": 250
        },
        "id": "CO8HebM6JYQ_",
        "outputId": "787120a7-2ad0-45c2-c628-54b2fce354a7"
      },
      "execution_count": 7,
      "outputs": [
        {
          "output_type": "execute_result",
          "data": {
            "text/plain": [
              "  symbol                       date   close    high     low    open   volume  \\\n",
              "0   TSLA  2018-02-28 00:00:00+00:00  343.06  355.24  342.22  352.57  6042895   \n",
              "1   TSLA  2018-03-01 00:00:00+00:00  330.93  348.67  330.07  345.01  6885601   \n",
              "2   TSLA  2018-03-02 00:00:00+00:00  335.12  335.22  322.97  326.98  5092829   \n",
              "3   TSLA  2018-03-05 00:00:00+00:00  333.35  337.75  329.29  332.39  3823769   \n",
              "4   TSLA  2018-03-06 00:00:00+00:00  328.20  336.37  327.03  333.75  4285744   \n",
              "\n",
              "    adjClose    adjHigh     adjLow    adjOpen  adjVolume  divCash  splitFactor  \n",
              "0  22.870667  23.682667  22.814667  23.504667   90643425      0.0          1.0  \n",
              "1  22.062000  23.244667  22.004667  23.000667  103284015      0.0          1.0  \n",
              "2  22.341333  22.348000  21.531333  21.798667   76392435      0.0          1.0  \n",
              "3  22.223333  22.516667  21.952667  22.159333   57356535      0.0          1.0  \n",
              "4  21.880000  22.424667  21.802000  22.250000   64286160      0.0          1.0  "
            ],
            "text/html": [
              "\n",
              "  <div id=\"df-65faf43a-c3ba-4450-8478-67c154e4c38f\">\n",
              "    <div class=\"colab-df-container\">\n",
              "      <div>\n",
              "<style scoped>\n",
              "    .dataframe tbody tr th:only-of-type {\n",
              "        vertical-align: middle;\n",
              "    }\n",
              "\n",
              "    .dataframe tbody tr th {\n",
              "        vertical-align: top;\n",
              "    }\n",
              "\n",
              "    .dataframe thead th {\n",
              "        text-align: right;\n",
              "    }\n",
              "</style>\n",
              "<table border=\"1\" class=\"dataframe\">\n",
              "  <thead>\n",
              "    <tr style=\"text-align: right;\">\n",
              "      <th></th>\n",
              "      <th>symbol</th>\n",
              "      <th>date</th>\n",
              "      <th>close</th>\n",
              "      <th>high</th>\n",
              "      <th>low</th>\n",
              "      <th>open</th>\n",
              "      <th>volume</th>\n",
              "      <th>adjClose</th>\n",
              "      <th>adjHigh</th>\n",
              "      <th>adjLow</th>\n",
              "      <th>adjOpen</th>\n",
              "      <th>adjVolume</th>\n",
              "      <th>divCash</th>\n",
              "      <th>splitFactor</th>\n",
              "    </tr>\n",
              "  </thead>\n",
              "  <tbody>\n",
              "    <tr>\n",
              "      <th>0</th>\n",
              "      <td>TSLA</td>\n",
              "      <td>2018-02-28 00:00:00+00:00</td>\n",
              "      <td>343.06</td>\n",
              "      <td>355.24</td>\n",
              "      <td>342.22</td>\n",
              "      <td>352.57</td>\n",
              "      <td>6042895</td>\n",
              "      <td>22.870667</td>\n",
              "      <td>23.682667</td>\n",
              "      <td>22.814667</td>\n",
              "      <td>23.504667</td>\n",
              "      <td>90643425</td>\n",
              "      <td>0.0</td>\n",
              "      <td>1.0</td>\n",
              "    </tr>\n",
              "    <tr>\n",
              "      <th>1</th>\n",
              "      <td>TSLA</td>\n",
              "      <td>2018-03-01 00:00:00+00:00</td>\n",
              "      <td>330.93</td>\n",
              "      <td>348.67</td>\n",
              "      <td>330.07</td>\n",
              "      <td>345.01</td>\n",
              "      <td>6885601</td>\n",
              "      <td>22.062000</td>\n",
              "      <td>23.244667</td>\n",
              "      <td>22.004667</td>\n",
              "      <td>23.000667</td>\n",
              "      <td>103284015</td>\n",
              "      <td>0.0</td>\n",
              "      <td>1.0</td>\n",
              "    </tr>\n",
              "    <tr>\n",
              "      <th>2</th>\n",
              "      <td>TSLA</td>\n",
              "      <td>2018-03-02 00:00:00+00:00</td>\n",
              "      <td>335.12</td>\n",
              "      <td>335.22</td>\n",
              "      <td>322.97</td>\n",
              "      <td>326.98</td>\n",
              "      <td>5092829</td>\n",
              "      <td>22.341333</td>\n",
              "      <td>22.348000</td>\n",
              "      <td>21.531333</td>\n",
              "      <td>21.798667</td>\n",
              "      <td>76392435</td>\n",
              "      <td>0.0</td>\n",
              "      <td>1.0</td>\n",
              "    </tr>\n",
              "    <tr>\n",
              "      <th>3</th>\n",
              "      <td>TSLA</td>\n",
              "      <td>2018-03-05 00:00:00+00:00</td>\n",
              "      <td>333.35</td>\n",
              "      <td>337.75</td>\n",
              "      <td>329.29</td>\n",
              "      <td>332.39</td>\n",
              "      <td>3823769</td>\n",
              "      <td>22.223333</td>\n",
              "      <td>22.516667</td>\n",
              "      <td>21.952667</td>\n",
              "      <td>22.159333</td>\n",
              "      <td>57356535</td>\n",
              "      <td>0.0</td>\n",
              "      <td>1.0</td>\n",
              "    </tr>\n",
              "    <tr>\n",
              "      <th>4</th>\n",
              "      <td>TSLA</td>\n",
              "      <td>2018-03-06 00:00:00+00:00</td>\n",
              "      <td>328.20</td>\n",
              "      <td>336.37</td>\n",
              "      <td>327.03</td>\n",
              "      <td>333.75</td>\n",
              "      <td>4285744</td>\n",
              "      <td>21.880000</td>\n",
              "      <td>22.424667</td>\n",
              "      <td>21.802000</td>\n",
              "      <td>22.250000</td>\n",
              "      <td>64286160</td>\n",
              "      <td>0.0</td>\n",
              "      <td>1.0</td>\n",
              "    </tr>\n",
              "  </tbody>\n",
              "</table>\n",
              "</div>\n",
              "      <button class=\"colab-df-convert\" onclick=\"convertToInteractive('df-65faf43a-c3ba-4450-8478-67c154e4c38f')\"\n",
              "              title=\"Convert this dataframe to an interactive table.\"\n",
              "              style=\"display:none;\">\n",
              "        \n",
              "  <svg xmlns=\"http://www.w3.org/2000/svg\" height=\"24px\"viewBox=\"0 0 24 24\"\n",
              "       width=\"24px\">\n",
              "    <path d=\"M0 0h24v24H0V0z\" fill=\"none\"/>\n",
              "    <path d=\"M18.56 5.44l.94 2.06.94-2.06 2.06-.94-2.06-.94-.94-2.06-.94 2.06-2.06.94zm-11 1L8.5 8.5l.94-2.06 2.06-.94-2.06-.94L8.5 2.5l-.94 2.06-2.06.94zm10 10l.94 2.06.94-2.06 2.06-.94-2.06-.94-.94-2.06-.94 2.06-2.06.94z\"/><path d=\"M17.41 7.96l-1.37-1.37c-.4-.4-.92-.59-1.43-.59-.52 0-1.04.2-1.43.59L10.3 9.45l-7.72 7.72c-.78.78-.78 2.05 0 2.83L4 21.41c.39.39.9.59 1.41.59.51 0 1.02-.2 1.41-.59l7.78-7.78 2.81-2.81c.8-.78.8-2.07 0-2.86zM5.41 20L4 18.59l7.72-7.72 1.47 1.35L5.41 20z\"/>\n",
              "  </svg>\n",
              "      </button>\n",
              "      \n",
              "  <style>\n",
              "    .colab-df-container {\n",
              "      display:flex;\n",
              "      flex-wrap:wrap;\n",
              "      gap: 12px;\n",
              "    }\n",
              "\n",
              "    .colab-df-convert {\n",
              "      background-color: #E8F0FE;\n",
              "      border: none;\n",
              "      border-radius: 50%;\n",
              "      cursor: pointer;\n",
              "      display: none;\n",
              "      fill: #1967D2;\n",
              "      height: 32px;\n",
              "      padding: 0 0 0 0;\n",
              "      width: 32px;\n",
              "    }\n",
              "\n",
              "    .colab-df-convert:hover {\n",
              "      background-color: #E2EBFA;\n",
              "      box-shadow: 0px 1px 2px rgba(60, 64, 67, 0.3), 0px 1px 3px 1px rgba(60, 64, 67, 0.15);\n",
              "      fill: #174EA6;\n",
              "    }\n",
              "\n",
              "    [theme=dark] .colab-df-convert {\n",
              "      background-color: #3B4455;\n",
              "      fill: #D2E3FC;\n",
              "    }\n",
              "\n",
              "    [theme=dark] .colab-df-convert:hover {\n",
              "      background-color: #434B5C;\n",
              "      box-shadow: 0px 1px 3px 1px rgba(0, 0, 0, 0.15);\n",
              "      filter: drop-shadow(0px 1px 2px rgba(0, 0, 0, 0.3));\n",
              "      fill: #FFFFFF;\n",
              "    }\n",
              "  </style>\n",
              "\n",
              "      <script>\n",
              "        const buttonEl =\n",
              "          document.querySelector('#df-65faf43a-c3ba-4450-8478-67c154e4c38f button.colab-df-convert');\n",
              "        buttonEl.style.display =\n",
              "          google.colab.kernel.accessAllowed ? 'block' : 'none';\n",
              "\n",
              "        async function convertToInteractive(key) {\n",
              "          const element = document.querySelector('#df-65faf43a-c3ba-4450-8478-67c154e4c38f');\n",
              "          const dataTable =\n",
              "            await google.colab.kernel.invokeFunction('convertToInteractive',\n",
              "                                                     [key], {});\n",
              "          if (!dataTable) return;\n",
              "\n",
              "          const docLinkHtml = 'Like what you see? Visit the ' +\n",
              "            '<a target=\"_blank\" href=https://colab.research.google.com/notebooks/data_table.ipynb>data table notebook</a>'\n",
              "            + ' to learn more about interactive tables.';\n",
              "          element.innerHTML = '';\n",
              "          dataTable['output_type'] = 'display_data';\n",
              "          await google.colab.output.renderOutput(dataTable, element);\n",
              "          const docLink = document.createElement('div');\n",
              "          docLink.innerHTML = docLinkHtml;\n",
              "          element.appendChild(docLink);\n",
              "        }\n",
              "      </script>\n",
              "    </div>\n",
              "  </div>\n",
              "  "
            ]
          },
          "metadata": {},
          "execution_count": 7
        }
      ]
    },
    {
      "cell_type": "code",
      "source": [
        "df.tail()"
      ],
      "metadata": {
        "colab": {
          "base_uri": "https://localhost:8080/",
          "height": 250
        },
        "id": "mU8LMOO3JdPM",
        "outputId": "e7bd3981-8cc4-4f39-afd5-e40a33fa5cbd"
      },
      "execution_count": 8,
      "outputs": [
        {
          "output_type": "execute_result",
          "data": {
            "text/plain": [
              "     symbol                       date   close      high     low     open  \\\n",
              "1252   TSLA  2023-02-17 00:00:00+00:00  208.31  208.4400  197.50  199.985   \n",
              "1253   TSLA  2023-02-21 00:00:00+00:00  197.37  209.7100  197.22  204.990   \n",
              "1254   TSLA  2023-02-22 00:00:00+00:00  200.86  201.9900  191.78  197.930   \n",
              "1255   TSLA  2023-02-23 00:00:00+00:00  202.07  205.1400  196.33  203.910   \n",
              "1256   TSLA  2023-02-24 00:00:00+00:00  196.88  197.6695  192.80  196.325   \n",
              "\n",
              "         volume  adjClose   adjHigh  adjLow  adjOpen  adjVolume  divCash  \\\n",
              "1252  213738549    208.31  208.4400  197.50  199.985  213738549      0.0   \n",
              "1253  180018588    197.37  209.7100  197.22  204.990  180018588      0.0   \n",
              "1254  191828457    200.86  201.9900  191.78  197.930  191828457      0.0   \n",
              "1255  146359950    202.07  205.1400  196.33  203.910  146359950      0.0   \n",
              "1256  142228105    196.88  197.6695  192.80  196.325  142228105      0.0   \n",
              "\n",
              "      splitFactor  \n",
              "1252          1.0  \n",
              "1253          1.0  \n",
              "1254          1.0  \n",
              "1255          1.0  \n",
              "1256          1.0  "
            ],
            "text/html": [
              "\n",
              "  <div id=\"df-14d3ce74-6481-46e3-9f4d-c7b7ee56f558\">\n",
              "    <div class=\"colab-df-container\">\n",
              "      <div>\n",
              "<style scoped>\n",
              "    .dataframe tbody tr th:only-of-type {\n",
              "        vertical-align: middle;\n",
              "    }\n",
              "\n",
              "    .dataframe tbody tr th {\n",
              "        vertical-align: top;\n",
              "    }\n",
              "\n",
              "    .dataframe thead th {\n",
              "        text-align: right;\n",
              "    }\n",
              "</style>\n",
              "<table border=\"1\" class=\"dataframe\">\n",
              "  <thead>\n",
              "    <tr style=\"text-align: right;\">\n",
              "      <th></th>\n",
              "      <th>symbol</th>\n",
              "      <th>date</th>\n",
              "      <th>close</th>\n",
              "      <th>high</th>\n",
              "      <th>low</th>\n",
              "      <th>open</th>\n",
              "      <th>volume</th>\n",
              "      <th>adjClose</th>\n",
              "      <th>adjHigh</th>\n",
              "      <th>adjLow</th>\n",
              "      <th>adjOpen</th>\n",
              "      <th>adjVolume</th>\n",
              "      <th>divCash</th>\n",
              "      <th>splitFactor</th>\n",
              "    </tr>\n",
              "  </thead>\n",
              "  <tbody>\n",
              "    <tr>\n",
              "      <th>1252</th>\n",
              "      <td>TSLA</td>\n",
              "      <td>2023-02-17 00:00:00+00:00</td>\n",
              "      <td>208.31</td>\n",
              "      <td>208.4400</td>\n",
              "      <td>197.50</td>\n",
              "      <td>199.985</td>\n",
              "      <td>213738549</td>\n",
              "      <td>208.31</td>\n",
              "      <td>208.4400</td>\n",
              "      <td>197.50</td>\n",
              "      <td>199.985</td>\n",
              "      <td>213738549</td>\n",
              "      <td>0.0</td>\n",
              "      <td>1.0</td>\n",
              "    </tr>\n",
              "    <tr>\n",
              "      <th>1253</th>\n",
              "      <td>TSLA</td>\n",
              "      <td>2023-02-21 00:00:00+00:00</td>\n",
              "      <td>197.37</td>\n",
              "      <td>209.7100</td>\n",
              "      <td>197.22</td>\n",
              "      <td>204.990</td>\n",
              "      <td>180018588</td>\n",
              "      <td>197.37</td>\n",
              "      <td>209.7100</td>\n",
              "      <td>197.22</td>\n",
              "      <td>204.990</td>\n",
              "      <td>180018588</td>\n",
              "      <td>0.0</td>\n",
              "      <td>1.0</td>\n",
              "    </tr>\n",
              "    <tr>\n",
              "      <th>1254</th>\n",
              "      <td>TSLA</td>\n",
              "      <td>2023-02-22 00:00:00+00:00</td>\n",
              "      <td>200.86</td>\n",
              "      <td>201.9900</td>\n",
              "      <td>191.78</td>\n",
              "      <td>197.930</td>\n",
              "      <td>191828457</td>\n",
              "      <td>200.86</td>\n",
              "      <td>201.9900</td>\n",
              "      <td>191.78</td>\n",
              "      <td>197.930</td>\n",
              "      <td>191828457</td>\n",
              "      <td>0.0</td>\n",
              "      <td>1.0</td>\n",
              "    </tr>\n",
              "    <tr>\n",
              "      <th>1255</th>\n",
              "      <td>TSLA</td>\n",
              "      <td>2023-02-23 00:00:00+00:00</td>\n",
              "      <td>202.07</td>\n",
              "      <td>205.1400</td>\n",
              "      <td>196.33</td>\n",
              "      <td>203.910</td>\n",
              "      <td>146359950</td>\n",
              "      <td>202.07</td>\n",
              "      <td>205.1400</td>\n",
              "      <td>196.33</td>\n",
              "      <td>203.910</td>\n",
              "      <td>146359950</td>\n",
              "      <td>0.0</td>\n",
              "      <td>1.0</td>\n",
              "    </tr>\n",
              "    <tr>\n",
              "      <th>1256</th>\n",
              "      <td>TSLA</td>\n",
              "      <td>2023-02-24 00:00:00+00:00</td>\n",
              "      <td>196.88</td>\n",
              "      <td>197.6695</td>\n",
              "      <td>192.80</td>\n",
              "      <td>196.325</td>\n",
              "      <td>142228105</td>\n",
              "      <td>196.88</td>\n",
              "      <td>197.6695</td>\n",
              "      <td>192.80</td>\n",
              "      <td>196.325</td>\n",
              "      <td>142228105</td>\n",
              "      <td>0.0</td>\n",
              "      <td>1.0</td>\n",
              "    </tr>\n",
              "  </tbody>\n",
              "</table>\n",
              "</div>\n",
              "      <button class=\"colab-df-convert\" onclick=\"convertToInteractive('df-14d3ce74-6481-46e3-9f4d-c7b7ee56f558')\"\n",
              "              title=\"Convert this dataframe to an interactive table.\"\n",
              "              style=\"display:none;\">\n",
              "        \n",
              "  <svg xmlns=\"http://www.w3.org/2000/svg\" height=\"24px\"viewBox=\"0 0 24 24\"\n",
              "       width=\"24px\">\n",
              "    <path d=\"M0 0h24v24H0V0z\" fill=\"none\"/>\n",
              "    <path d=\"M18.56 5.44l.94 2.06.94-2.06 2.06-.94-2.06-.94-.94-2.06-.94 2.06-2.06.94zm-11 1L8.5 8.5l.94-2.06 2.06-.94-2.06-.94L8.5 2.5l-.94 2.06-2.06.94zm10 10l.94 2.06.94-2.06 2.06-.94-2.06-.94-.94-2.06-.94 2.06-2.06.94z\"/><path d=\"M17.41 7.96l-1.37-1.37c-.4-.4-.92-.59-1.43-.59-.52 0-1.04.2-1.43.59L10.3 9.45l-7.72 7.72c-.78.78-.78 2.05 0 2.83L4 21.41c.39.39.9.59 1.41.59.51 0 1.02-.2 1.41-.59l7.78-7.78 2.81-2.81c.8-.78.8-2.07 0-2.86zM5.41 20L4 18.59l7.72-7.72 1.47 1.35L5.41 20z\"/>\n",
              "  </svg>\n",
              "      </button>\n",
              "      \n",
              "  <style>\n",
              "    .colab-df-container {\n",
              "      display:flex;\n",
              "      flex-wrap:wrap;\n",
              "      gap: 12px;\n",
              "    }\n",
              "\n",
              "    .colab-df-convert {\n",
              "      background-color: #E8F0FE;\n",
              "      border: none;\n",
              "      border-radius: 50%;\n",
              "      cursor: pointer;\n",
              "      display: none;\n",
              "      fill: #1967D2;\n",
              "      height: 32px;\n",
              "      padding: 0 0 0 0;\n",
              "      width: 32px;\n",
              "    }\n",
              "\n",
              "    .colab-df-convert:hover {\n",
              "      background-color: #E2EBFA;\n",
              "      box-shadow: 0px 1px 2px rgba(60, 64, 67, 0.3), 0px 1px 3px 1px rgba(60, 64, 67, 0.15);\n",
              "      fill: #174EA6;\n",
              "    }\n",
              "\n",
              "    [theme=dark] .colab-df-convert {\n",
              "      background-color: #3B4455;\n",
              "      fill: #D2E3FC;\n",
              "    }\n",
              "\n",
              "    [theme=dark] .colab-df-convert:hover {\n",
              "      background-color: #434B5C;\n",
              "      box-shadow: 0px 1px 3px 1px rgba(0, 0, 0, 0.15);\n",
              "      filter: drop-shadow(0px 1px 2px rgba(0, 0, 0, 0.3));\n",
              "      fill: #FFFFFF;\n",
              "    }\n",
              "  </style>\n",
              "\n",
              "      <script>\n",
              "        const buttonEl =\n",
              "          document.querySelector('#df-14d3ce74-6481-46e3-9f4d-c7b7ee56f558 button.colab-df-convert');\n",
              "        buttonEl.style.display =\n",
              "          google.colab.kernel.accessAllowed ? 'block' : 'none';\n",
              "\n",
              "        async function convertToInteractive(key) {\n",
              "          const element = document.querySelector('#df-14d3ce74-6481-46e3-9f4d-c7b7ee56f558');\n",
              "          const dataTable =\n",
              "            await google.colab.kernel.invokeFunction('convertToInteractive',\n",
              "                                                     [key], {});\n",
              "          if (!dataTable) return;\n",
              "\n",
              "          const docLinkHtml = 'Like what you see? Visit the ' +\n",
              "            '<a target=\"_blank\" href=https://colab.research.google.com/notebooks/data_table.ipynb>data table notebook</a>'\n",
              "            + ' to learn more about interactive tables.';\n",
              "          element.innerHTML = '';\n",
              "          dataTable['output_type'] = 'display_data';\n",
              "          await google.colab.output.renderOutput(dataTable, element);\n",
              "          const docLink = document.createElement('div');\n",
              "          docLink.innerHTML = docLinkHtml;\n",
              "          element.appendChild(docLink);\n",
              "        }\n",
              "      </script>\n",
              "    </div>\n",
              "  </div>\n",
              "  "
            ]
          },
          "metadata": {},
          "execution_count": 8
        }
      ]
    },
    {
      "cell_type": "code",
      "source": [
        "df=df.reset_index()['close']"
      ],
      "metadata": {
        "id": "MoABAaCZJeCb"
      },
      "execution_count": 9,
      "outputs": []
    },
    {
      "cell_type": "code",
      "source": [
        "df"
      ],
      "metadata": {
        "colab": {
          "base_uri": "https://localhost:8080/"
        },
        "id": "ag0RpBmaJp9X",
        "outputId": "ad9a6f81-e9a6-4c8a-abc7-fe00f55f576e"
      },
      "execution_count": 10,
      "outputs": [
        {
          "output_type": "execute_result",
          "data": {
            "text/plain": [
              "0       343.06\n",
              "1       330.93\n",
              "2       335.12\n",
              "3       333.35\n",
              "4       328.20\n",
              "         ...  \n",
              "1252    208.31\n",
              "1253    197.37\n",
              "1254    200.86\n",
              "1255    202.07\n",
              "1256    196.88\n",
              "Name: close, Length: 1257, dtype: float64"
            ]
          },
          "metadata": {},
          "execution_count": 10
        }
      ]
    },
    {
      "cell_type": "code",
      "source": [
        "import matplotlib.pyplot as plt\n",
        "plt.plot(df)"
      ],
      "metadata": {
        "colab": {
          "base_uri": "https://localhost:8080/",
          "height": 282
        },
        "id": "h8GB2ogkJvM7",
        "outputId": "207fe6b5-969d-48bc-bf8c-25fd0d9cc27f"
      },
      "execution_count": 12,
      "outputs": [
        {
          "output_type": "execute_result",
          "data": {
            "text/plain": [
              "[<matplotlib.lines.Line2D at 0x7fc99bf33760>]"
            ]
          },
          "metadata": {},
          "execution_count": 12
        },
        {
          "output_type": "display_data",
          "data": {
            "text/plain": [
              "<Figure size 432x288 with 1 Axes>"
            ],
            "image/png": "[encoded data removed]"
          },
          "metadata": {
            "needs_background": "light"
          }
        }
      ]
    },
    {
      "cell_type": "code",
      "source": [
        "import numpy as np"
      ],
      "metadata": {
        "id": "6TSEHFiTJz_J"
      },
      "execution_count": 14,
      "outputs": []
    },
    {
      "cell_type": "code",
      "source": [
        "from sklearn.preprocessing import MinMaxScaler\n",
        "scaler=MinMaxScaler(feature_range=(0,1))\n",
        "df1=scaler.fit_transform(np.array(df).reshape(-1,1))"
      ],
      "metadata": {
        "id": "qJvdcolSJ93V"
      },
      "execution_count": 15,
      "outputs": []
    },
    {
      "cell_type": "code",
      "source": [
        "print(df1)"
      ],
      "metadata": {
        "colab": {
          "base_uri": "https://localhost:8080/"
        },
        "id": "gtlgVcnIKCSn",
        "outputId": "3a5c871f-73c6-40a1-b7bf-a03c711e9d1f"
      },
      "execution_count": 16,
      "outputs": [
        {
          "output_type": "stream",
          "name": "stdout",
          "text": [
            "[[0.11027621]\n",
            " [0.10458311]\n",
            " [0.10654964]\n",
            " ...\n",
            " [0.04353601]\n",
            " [0.04410391]\n",
            " [0.04166804]]\n"
          ]
        }
      ]
    },
    {
      "cell_type": "code",
      "source": [
        "##splitting dataset into train and test split\n",
        "training_size=int(len(df1)*0.65)\n",
        "test_size=len(df1)-training_size\n",
        "train_data,test_data=df1[0:training_size,:],df1[training_size:len(df1),:1]"
      ],
      "metadata": {
        "id": "2pEpn9EOKGq9"
      },
      "execution_count": 17,
      "outputs": []
    },
    {
      "cell_type": "code",
      "source": [
        "training_size,test_size"
      ],
      "metadata": {
        "colab": {
          "base_uri": "https://localhost:8080/"
        },
        "id": "8nwJxKDpKG-4",
        "outputId": "11231a8e-f03b-4988-e3fd-b33e01c2fbfe"
      },
      "execution_count": 18,
      "outputs": [
        {
          "output_type": "execute_result",
          "data": {
            "text/plain": [
              "(817, 440)"
            ]
          },
          "metadata": {},
          "execution_count": 18
        }
      ]
    },
    {
      "cell_type": "code",
      "source": [
        "# convert an array of values into a dataset matrix\n",
        "def create_dataset(dataset, time_step=1):\n",
        "\tdataX, dataY = [], []\n",
        "\tfor i in range(len(dataset)-time_step-1):\n",
        "\t\ta = dataset[i:(i+time_step), 0]   ###i=0, 0,1,2,3-----99   100 \n",
        "\t\tdataX.append(a)\n",
        "\t\tdataY.append(dataset[i + time_step, 0])\n",
        "\treturn np.array(dataX), np.array(dataY)"
      ],
      "metadata": {
        "id": "mhqqoeCBKJg5"
      },
      "execution_count": 19,
      "outputs": []
    },
    {
      "cell_type": "code",
      "source": [
        "# reshape into X=t,t+1,t+2,t+3 and Y=t+4\n",
        "time_step = 100\n",
        "X_train, y_train = create_dataset(train_data, time_step)\n",
        "X_test, ytest = create_dataset(test_data, time_step)"
      ],
      "metadata": {
        "id": "JKFscU8wKY_z"
      },
      "execution_count": 20,
      "outputs": []
    },
    {
      "cell_type": "code",
      "source": [
        "print(X_train.shape), print(y_train.shape)"
      ],
      "metadata": {
        "colab": {
          "base_uri": "https://localhost:8080/"
        },
        "id": "VHShp7vhKbED",
        "outputId": "1349e0ed-2de8-4913-f8cc-a9d47317c74a"
      },
      "execution_count": 24,
      "outputs": [
        {
          "output_type": "stream",
          "name": "stdout",
          "text": [
            "(716, 100)\n",
            "(716,)\n"
          ]
        },
        {
          "output_type": "execute_result",
          "data": {
            "text/plain": [
              "(None, None)"
            ]
          },
          "metadata": {},
          "execution_count": 24
        }
      ]
    },
    {
      "cell_type": "code",
      "source": [
        "print(X_test.shape), print(ytest.shape)"
      ],
      "metadata": {
        "colab": {
          "base_uri": "https://localhost:8080/"
        },
        "id": "uKhE1KJ8Kdim",
        "outputId": "547c1e2d-10d0-46f9-de60-448378c70cc3"
      },
      "execution_count": 22,
      "outputs": [
        {
          "output_type": "stream",
          "name": "stdout",
          "text": [
            "(339, 100)\n",
            "(339,)\n"
          ]
        },
        {
          "output_type": "execute_result",
          "data": {
            "text/plain": [
              "(None, None)"
            ]
          },
          "metadata": {},
          "execution_count": 22
        }
      ]
    },
    {
      "cell_type": "code",
      "source": [
        "# reshape input to be [samples, time steps, features] which is required for LSTM\n",
        "X_train =X_train.reshape(X_train.shape[0],X_train.shape[1] , 1)\n",
        "X_test = X_test.reshape(X_test.shape[0],X_test.shape[1] , 1)"
      ],
      "metadata": {
        "id": "gVzVeu_fKjUh"
      },
      "execution_count": 25,
      "outputs": []
    },
    {
      "cell_type": "code",
      "source": [
        "### Create the Stacked LSTM model\n",
        "from tensorflow.keras.models import Sequential\n",
        "from tensorflow.keras.layers import Dense\n",
        "from tensorflow.keras.layers import LSTM"
      ],
      "metadata": {
        "id": "C8JkQYTtKpee"
      },
      "execution_count": 26,
      "outputs": []
    },
    {
      "cell_type": "code",
      "source": [
        "model=Sequential()\n",
        "model.add(LSTM(50,return_sequences=True,input_shape=(100,1)))\n",
        "model.add(LSTM(50,return_sequences=True))\n",
        "model.add(LSTM(50))\n",
        "model.add(Dense(1))\n",
        "model.compile(loss='mean_squared_error',optimizer='adam')"
      ],
      "metadata": {
        "id": "o4t4o3OzKrmz"
      },
      "execution_count": 27,
      "outputs": []
    },
    {
      "cell_type": "code",
      "source": [
        "model.summary()"
      ],
      "metadata": {
        "colab": {
          "base_uri": "https://localhost:8080/"
        },
        "id": "sLMf_nYFKtGb",
        "outputId": "3edf408e-263a-4e12-f52f-c40295943bfe"
      },
      "execution_count": 28,
      "outputs": [
        {
          "output_type": "stream",
          "name": "stdout",
          "text": [
            "Model: \"sequential\"\n",
            "_________________________________________________________________\n",
            " Layer (type)                Output Shape              Param #   \n",
            "=================================================================\n",
            " lstm (LSTM)                 (None, 100, 50)           10400     \n",
            "                                                                 \n",
            " lstm_1 (LSTM)               (None, 100, 50)           20200     \n",
            "                                                                 \n",
            " lstm_2 (LSTM)               (None, 50)                20200     \n",
            "                                                                 \n",
            " dense (Dense)               (None, 1)                 51        \n",
            "                                                                 \n",
            "=================================================================\n",
            "Total params: 50,851\n",
            "Trainable params: 50,851\n",
            "Non-trainable params: 0\n",
            "_________________________________________________________________\n"
          ]
        }
      ]
    },
    {
      "cell_type": "code",
      "source": [
        "model.fit(X_train,y_train,validation_data=(X_test,ytest),epochs=100,batch_size=64,verbose=1)"
      ],
      "metadata": {
        "colab": {
          "base_uri": "https://localhost:8080/"
        },
        "id": "BDlYShNdKwBI",
        "outputId": "70fe95d3-d8f2-4afa-9681-8f8ac6613416"
      },
      "execution_count": 29,
      "outputs": [
        {
          "output_type": "stream",
          "name": "stdout",
          "text": [
            "Epoch 1/100\n",
            "12/12 [==============================] - 12s 417ms/step - loss: 0.0233 - val_loss: 0.0081\n",
            "Epoch 2/100\n",
            "12/12 [==============================] - 3s 260ms/step - loss: 0.0088 - val_loss: 0.0040\n",
            "Epoch 3/100\n",
            "12/12 [==============================] - 3s 259ms/step - loss: 0.0075 - val_loss: 0.0036\n",
            "Epoch 4/100\n",
            "12/12 [==============================] - 4s 317ms/step - loss: 0.0069 - val_loss: 0.0036\n",
            "Epoch 5/100\n",
            "12/12 [==============================] - 3s 227ms/step - loss: 0.0068 - val_loss: 0.0031\n",
            "Epoch 6/100\n",
            "12/12 [==============================] - 3s 234ms/step - loss: 0.0059 - val_loss: 0.0026\n",
            "Epoch 7/100\n",
            "12/12 [==============================] - 3s 234ms/step - loss: 0.0056 - val_loss: 0.0030\n",
            "Epoch 8/100\n",
            "12/12 [==============================] - 3s 260ms/step - loss: 0.0053 - val_loss: 0.0039\n",
            "Epoch 9/100\n",
            "12/12 [==============================] - 4s 291ms/step - loss: 0.0064 - val_loss: 0.0024\n",
            "Epoch 10/100\n",
            "12/12 [==============================] - 3s 227ms/step - loss: 0.0049 - val_loss: 0.0024\n",
            "Epoch 11/100\n",
            "12/12 [==============================] - 3s 257ms/step - loss: 0.0049 - val_loss: 0.0021\n",
            "Epoch 12/100\n",
            "12/12 [==============================] - 3s 256ms/step - loss: 0.0046 - val_loss: 0.0026\n",
            "Epoch 13/100\n",
            "12/12 [==============================] - 6s 516ms/step - loss: 0.0039 - val_loss: 0.0033\n",
            "Epoch 14/100\n",
            "12/12 [==============================] - 3s 240ms/step - loss: 0.0039 - val_loss: 0.0026\n",
            "Epoch 15/100\n",
            "12/12 [==============================] - 3s 225ms/step - loss: 0.0036 - val_loss: 0.0021\n",
            "Epoch 16/100\n",
            "12/12 [==============================] - 4s 360ms/step - loss: 0.0029 - val_loss: 0.0019\n",
            "Epoch 17/100\n",
            "12/12 [==============================] - 3s 225ms/step - loss: 0.0026 - val_loss: 0.0022\n",
            "Epoch 18/100\n",
            "12/12 [==============================] - 3s 236ms/step - loss: 0.0025 - val_loss: 0.0027\n",
            "Epoch 19/100\n",
            "12/12 [==============================] - 3s 240ms/step - loss: 0.0022 - val_loss: 0.0031\n",
            "Epoch 20/100\n",
            "12/12 [==============================] - 4s 351ms/step - loss: 0.0044 - val_loss: 0.0018\n",
            "Epoch 21/100\n",
            "12/12 [==============================] - 3s 238ms/step - loss: 0.0024 - val_loss: 0.0034\n",
            "Epoch 22/100\n",
            "12/12 [==============================] - 3s 240ms/step - loss: 0.0022 - val_loss: 0.0025\n",
            "Epoch 23/100\n",
            "12/12 [==============================] - 4s 310ms/step - loss: 0.0017 - val_loss: 0.0022\n",
            "Epoch 24/100\n",
            "12/12 [==============================] - 5s 436ms/step - loss: 0.0017 - val_loss: 0.0014\n",
            "Epoch 25/100\n",
            "12/12 [==============================] - 4s 337ms/step - loss: 0.0016 - val_loss: 0.0020\n",
            "Epoch 26/100\n",
            "12/12 [==============================] - 4s 353ms/step - loss: 0.0019 - val_loss: 0.0014\n",
            "Epoch 27/100\n",
            "12/12 [==============================] - 4s 375ms/step - loss: 0.0015 - val_loss: 0.0014\n",
            "Epoch 28/100\n",
            "12/12 [==============================] - 4s 348ms/step - loss: 0.0017 - val_loss: 0.0015\n",
            "Epoch 29/100\n",
            "12/12 [==============================] - 3s 238ms/step - loss: 0.0015 - val_loss: 0.0018\n",
            "Epoch 30/100\n",
            "12/12 [==============================] - 4s 349ms/step - loss: 0.0014 - val_loss: 0.0015\n",
            "Epoch 31/100\n",
            "12/12 [==============================] - 5s 453ms/step - loss: 0.0017 - val_loss: 0.0022\n",
            "Epoch 32/100\n",
            "12/12 [==============================] - 4s 319ms/step - loss: 0.0015 - val_loss: 0.0017\n",
            "Epoch 33/100\n",
            "12/12 [==============================] - 4s 310ms/step - loss: 0.0013 - val_loss: 0.0017\n",
            "Epoch 34/100\n",
            "12/12 [==============================] - 3s 262ms/step - loss: 0.0013 - val_loss: 0.0015\n",
            "Epoch 35/100\n",
            "12/12 [==============================] - 4s 324ms/step - loss: 0.0013 - val_loss: 0.0015\n",
            "Epoch 36/100\n",
            "12/12 [==============================] - 6s 540ms/step - loss: 0.0013 - val_loss: 0.0016\n",
            "Epoch 37/100\n",
            "12/12 [==============================] - 5s 398ms/step - loss: 0.0014 - val_loss: 0.0017\n",
            "Epoch 38/100\n",
            "12/12 [==============================] - 3s 247ms/step - loss: 0.0015 - val_loss: 0.0018\n",
            "Epoch 39/100\n",
            "12/12 [==============================] - 3s 231ms/step - loss: 0.0014 - val_loss: 0.0014\n",
            "Epoch 40/100\n",
            "12/12 [==============================] - 4s 335ms/step - loss: 0.0015 - val_loss: 0.0013\n",
            "Epoch 41/100\n",
            "12/12 [==============================] - 3s 236ms/step - loss: 0.0013 - val_loss: 0.0014\n",
            "Epoch 42/100\n",
            "12/12 [==============================] - 4s 351ms/step - loss: 0.0013 - val_loss: 0.0017\n",
            "Epoch 43/100\n",
            "12/12 [==============================] - 3s 274ms/step - loss: 0.0014 - val_loss: 0.0019\n",
            "Epoch 44/100\n",
            "12/12 [==============================] - 4s 291ms/step - loss: 0.0012 - val_loss: 0.0017\n",
            "Epoch 45/100\n",
            "12/12 [==============================] - 3s 254ms/step - loss: 0.0013 - val_loss: 0.0016\n",
            "Epoch 46/100\n",
            "12/12 [==============================] - 3s 244ms/step - loss: 0.0013 - val_loss: 0.0017\n",
            "Epoch 47/100\n",
            "12/12 [==============================] - 3s 268ms/step - loss: 0.0012 - val_loss: 0.0013\n",
            "Epoch 48/100\n",
            "12/12 [==============================] - 5s 385ms/step - loss: 0.0014 - val_loss: 0.0013\n",
            "Epoch 49/100\n",
            "12/12 [==============================] - 3s 247ms/step - loss: 0.0013 - val_loss: 0.0015\n",
            "Epoch 50/100\n",
            "12/12 [==============================] - 3s 243ms/step - loss: 0.0013 - val_loss: 0.0015\n",
            "Epoch 51/100\n",
            "12/12 [==============================] - 5s 419ms/step - loss: 0.0013 - val_loss: 0.0017\n",
            "Epoch 52/100\n",
            "12/12 [==============================] - 3s 267ms/step - loss: 0.0012 - val_loss: 0.0015\n",
            "Epoch 53/100\n",
            "12/12 [==============================] - 3s 264ms/step - loss: 0.0011 - val_loss: 0.0016\n",
            "Epoch 54/100\n",
            "12/12 [==============================] - 3s 245ms/step - loss: 0.0012 - val_loss: 0.0019\n",
            "Epoch 55/100\n",
            "12/12 [==============================] - 4s 348ms/step - loss: 0.0015 - val_loss: 0.0018\n",
            "Epoch 56/100\n",
            "12/12 [==============================] - 3s 243ms/step - loss: 0.0013 - val_loss: 0.0019\n",
            "Epoch 57/100\n",
            "12/12 [==============================] - 3s 239ms/step - loss: 0.0012 - val_loss: 0.0013\n",
            "Epoch 58/100\n",
            "12/12 [==============================] - 4s 358ms/step - loss: 0.0013 - val_loss: 0.0014\n",
            "Epoch 59/100\n",
            "12/12 [==============================] - 6s 468ms/step - loss: 0.0012 - val_loss: 0.0013\n",
            "Epoch 60/100\n",
            "12/12 [==============================] - 4s 344ms/step - loss: 0.0011 - val_loss: 0.0013\n",
            "Epoch 61/100\n",
            "12/12 [==============================] - 3s 237ms/step - loss: 0.0011 - val_loss: 0.0013\n",
            "Epoch 62/100\n",
            "12/12 [==============================] - 4s 353ms/step - loss: 0.0012 - val_loss: 0.0012\n",
            "Epoch 63/100\n",
            "12/12 [==============================] - 3s 238ms/step - loss: 0.0011 - val_loss: 0.0012\n",
            "Epoch 64/100\n",
            "12/12 [==============================] - 3s 241ms/step - loss: 0.0011 - val_loss: 0.0013\n",
            "Epoch 65/100\n",
            "12/12 [==============================] - 4s 355ms/step - loss: 0.0012 - val_loss: 0.0014\n",
            "Epoch 66/100\n",
            "12/12 [==============================] - 5s 372ms/step - loss: 0.0014 - val_loss: 0.0013\n",
            "Epoch 67/100\n",
            "12/12 [==============================] - 4s 322ms/step - loss: 0.0017 - val_loss: 0.0013\n",
            "Epoch 68/100\n",
            "12/12 [==============================] - 4s 303ms/step - loss: 0.0014 - val_loss: 0.0014\n",
            "Epoch 69/100\n",
            "12/12 [==============================] - 5s 423ms/step - loss: 0.0017 - val_loss: 0.0014\n",
            "Epoch 70/100\n",
            "12/12 [==============================] - 4s 343ms/step - loss: 0.0014 - val_loss: 0.0014\n",
            "Epoch 71/100\n",
            "12/12 [==============================] - 5s 419ms/step - loss: 0.0012 - val_loss: 0.0013\n",
            "Epoch 72/100\n",
            "12/12 [==============================] - 5s 406ms/step - loss: 0.0012 - val_loss: 0.0015\n",
            "Epoch 73/100\n",
            "12/12 [==============================] - 6s 483ms/step - loss: 0.0015 - val_loss: 0.0014\n",
            "Epoch 74/100\n",
            "12/12 [==============================] - 5s 418ms/step - loss: 0.0013 - val_loss: 0.0018\n",
            "Epoch 75/100\n",
            "12/12 [==============================] - 3s 275ms/step - loss: 0.0012 - val_loss: 0.0014\n",
            "Epoch 76/100\n",
            "12/12 [==============================] - 6s 499ms/step - loss: 0.0013 - val_loss: 0.0013\n",
            "Epoch 77/100\n",
            "12/12 [==============================] - 6s 425ms/step - loss: 0.0016 - val_loss: 0.0014\n",
            "Epoch 78/100\n",
            "12/12 [==============================] - 4s 287ms/step - loss: 0.0014 - val_loss: 0.0012\n",
            "Epoch 79/100\n",
            "12/12 [==============================] - 3s 244ms/step - loss: 0.0012 - val_loss: 0.0013\n",
            "Epoch 80/100\n",
            "12/12 [==============================] - 4s 351ms/step - loss: 0.0011 - val_loss: 0.0014\n",
            "Epoch 81/100\n",
            "12/12 [==============================] - 4s 355ms/step - loss: 0.0011 - val_loss: 0.0016\n",
            "Epoch 82/100\n",
            "12/12 [==============================] - 3s 256ms/step - loss: 0.0010 - val_loss: 0.0014\n",
            "Epoch 83/100\n",
            "12/12 [==============================] - 3s 269ms/step - loss: 0.0011 - val_loss: 0.0015\n",
            "Epoch 84/100\n",
            "12/12 [==============================] - 4s 326ms/step - loss: 0.0012 - val_loss: 0.0014\n",
            "Epoch 85/100\n",
            "12/12 [==============================] - 3s 261ms/step - loss: 0.0010 - val_loss: 0.0018\n",
            "Epoch 86/100\n",
            "12/12 [==============================] - 3s 255ms/step - loss: 0.0011 - val_loss: 0.0014\n",
            "Epoch 87/100\n",
            "12/12 [==============================] - 3s 263ms/step - loss: 0.0016 - val_loss: 0.0013\n",
            "Epoch 88/100\n",
            "12/12 [==============================] - 4s 318ms/step - loss: 0.0012 - val_loss: 0.0013\n",
            "Epoch 89/100\n",
            "12/12 [==============================] - 3s 259ms/step - loss: 0.0013 - val_loss: 0.0012\n",
            "Epoch 90/100\n",
            "12/12 [==============================] - 3s 258ms/step - loss: 0.0012 - val_loss: 0.0012\n",
            "Epoch 91/100\n",
            "12/12 [==============================] - 3s 275ms/step - loss: 0.0011 - val_loss: 0.0011\n",
            "Epoch 92/100\n",
            "12/12 [==============================] - 4s 322ms/step - loss: 0.0015 - val_loss: 0.0014\n",
            "Epoch 93/100\n",
            "12/12 [==============================] - 3s 259ms/step - loss: 0.0012 - val_loss: 0.0012\n",
            "Epoch 94/100\n",
            "12/12 [==============================] - 3s 250ms/step - loss: 0.0012 - val_loss: 0.0012\n",
            "Epoch 95/100\n",
            "12/12 [==============================] - 4s 372ms/step - loss: 0.0017 - val_loss: 0.0069\n",
            "Epoch 96/100\n",
            "12/12 [==============================] - 3s 277ms/step - loss: 0.0035 - val_loss: 0.0014\n",
            "Epoch 97/100\n",
            "12/12 [==============================] - 3s 238ms/step - loss: 0.0017 - val_loss: 0.0015\n",
            "Epoch 98/100\n",
            "12/12 [==============================] - 3s 251ms/step - loss: 0.0014 - val_loss: 0.0012\n",
            "Epoch 99/100\n",
            "12/12 [==============================] - 4s 366ms/step - loss: 0.0015 - val_loss: 0.0011\n",
            "Epoch 100/100\n",
            "12/12 [==============================] - 3s 275ms/step - loss: 0.0012 - val_loss: 0.0019\n"
          ]
        },
        {
          "output_type": "execute_result",
          "data": {
            "text/plain": [
              "<keras.callbacks.History at 0x7fc934417b50>"
            ]
          },
          "metadata": {},
          "execution_count": 29
        }
      ]
    },
    {
      "cell_type": "code",
      "source": [
        "### Lets Do the prediction and check performance metrics\n",
        "train_predict=model.predict(X_train)\n",
        "test_predict=model.predict(X_test)"
      ],
      "metadata": {
        "colab": {
          "base_uri": "https://localhost:8080/"
        },
        "id": "OvkCN1wbKzTR",
        "outputId": "2cffdbff-38ad-4947-d355-50716f1c6845"
      },
      "execution_count": 30,
      "outputs": [
        {
          "output_type": "stream",
          "name": "stdout",
          "text": [
            "23/23 [==============================] - 3s 51ms/step\n",
            "11/11 [==============================] - 1s 50ms/step\n"
          ]
        }
      ]
    },
    {
      "cell_type": "code",
      "source": [
        "##Transformback to original form\n",
        "train_predict=scaler.inverse_transform(train_predict)\n",
        "test_predict=scaler.inverse_transform(test_predict)"
      ],
      "metadata": {
        "id": "Kaa1Hun-LHn_"
      },
      "execution_count": 31,
      "outputs": []
    },
    {
      "cell_type": "code",
      "source": [
        "### Calculate RMSE performance metrics\n",
        "import math\n",
        "from sklearn.metrics import mean_squared_error\n",
        "math.sqrt(mean_squared_error(y_train,train_predict))"
      ],
      "metadata": {
        "colab": {
          "base_uri": "https://localhost:8080/"
        },
        "id": "VttRj8n5LHlN",
        "outputId": "50458401-9719-4a0f-ef64-9f8ec9494be6"
      },
      "execution_count": 32,
      "outputs": [
        {
          "output_type": "execute_result",
          "data": {
            "text/plain": [
              "643.0805100019421"
            ]
          },
          "metadata": {},
          "execution_count": 32
        }
      ]
    },
    {
      "cell_type": "code",
      "source": [
        "### Test Data RMSE\n",
        "math.sqrt(mean_squared_error(ytest,test_predict))"
      ],
      "metadata": {
        "colab": {
          "base_uri": "https://localhost:8080/"
        },
        "id": "oGx1l1V8LHie",
        "outputId": "ba9c8a5b-2543-4d88-be8d-60b2259d6e36"
      },
      "execution_count": 33,
      "outputs": [
        {
          "output_type": "execute_result",
          "data": {
            "text/plain": [
              "800.0255305026733"
            ]
          },
          "metadata": {},
          "execution_count": 33
        }
      ]
    },
    {
      "cell_type": "code",
      "source": [
        "### Plotting \n",
        "# shift train predictions for plotting\n",
        "look_back=100\n",
        "trainPredictPlot = np.empty_like(df1)\n",
        "trainPredictPlot[:, :] = np.nan\n",
        "trainPredictPlot[look_back:len(train_predict)+look_back, :] = train_predict\n",
        "# shift test predictions for plotting\n",
        "testPredictPlot = np.empty_like(df1)\n",
        "testPredictPlot[:, :] = np.nan\n",
        "testPredictPlot[len(train_predict)+(look_back*2)+1:len(df1)-1, :] = test_predict\n",
        "# plot baseline and predictions\n",
        "plt.plot(scaler.inverse_transform(df1))\n",
        "plt.plot(trainPredictPlot)\n",
        "plt.plot(testPredictPlot)\n",
        "plt.show()\n"
      ],
      "metadata": {
        "colab": {
          "base_uri": "https://localhost:8080/",
          "height": 265
        },
        "id": "bRRQe8gYLMgC",
        "outputId": "1a445e55-3ea3-4cd6-d435-72cf77b7edd2"
      },
      "execution_count": 35,
      "outputs": [
        {
          "output_type": "display_data",
          "data": {
            "text/plain": [
              "<Figure size 432x288 with 1 Axes>"
            ],
            "image/png": "[encoded data removed]"
          },
          "metadata": {
            "needs_background": "light"
          }
        }
      ]
    },
    {
      "cell_type": "code",
      "source": [
        "len(test_data)"
      ],
      "metadata": {
        "colab": {
          "base_uri": "https://localhost:8080/"
        },
        "id": "qGPS0CssLP55",
        "outputId": "e8c5b77d-5239-4b29-8d3a-83b6397aea7f"
      },
      "execution_count": 36,
      "outputs": [
        {
          "output_type": "execute_result",
          "data": {
            "text/plain": [
              "440"
            ]
          },
          "metadata": {},
          "execution_count": 36
        }
      ]
    },
    {
      "cell_type": "code",
      "source": [
        "x_input=test_data[340:].reshape(1,-1)\n",
        "x_input.shape"
      ],
      "metadata": {
        "colab": {
          "base_uri": "https://localhost:8080/"
        },
        "id": "27M6obSwLZqt",
        "outputId": "b74a4e13-6ffd-4cc5-efae-f15e425f9985"
      },
      "execution_count": 43,
      "outputs": [
        {
          "output_type": "execute_result",
          "data": {
            "text/plain": [
              "(1, 100)"
            ]
          },
          "metadata": {},
          "execution_count": 43
        }
      ]
    },
    {
      "cell_type": "code",
      "source": [
        "temp_input=list(x_input)\n",
        "temp_input=temp_input[0].tolist()"
      ],
      "metadata": {
        "id": "2WjSyxnMLZoU"
      },
      "execution_count": 44,
      "outputs": []
    },
    {
      "cell_type": "code",
      "source": [
        "temp_input"
      ],
      "metadata": {
        "colab": {
          "base_uri": "https://localhost:8080/"
        },
        "id": "IhGYGjP8LZl0",
        "outputId": "9308870d-a1d9-46ba-8c2e-cad4633aa085"
      },
      "execution_count": 45,
      "outputs": [
        {
          "output_type": "execute_result",
          "data": {
            "text/plain": [
              "[0.0630324079506254,\n",
              " 0.06633656395935512,\n",
              " 0.06228615680660832,\n",
              " 0.061028324689648694,\n",
              " 0.05396005913688311,\n",
              " 0.05390843169924671,\n",
              " 0.050876493088963456,\n",
              " 0.05122380494215381,\n",
              " 0.05332644967498182,\n",
              " 0.04547438575082721,\n",
              " 0.05221411306408842,\n",
              " 0.05260835895149367,\n",
              " 0.05347663858446952,\n",
              " 0.04654917513434867,\n",
              " 0.0499096519841363,\n",
              " 0.048412456292680636,\n",
              " 0.05365264121277544,\n",
              " 0.054696923474057205,\n",
              " 0.054908126628024315,\n",
              " 0.05651796400159577,\n",
              " 0.05605801046628962,\n",
              " 0.05618942576209138,\n",
              " 0.05016309576889681,\n",
              " 0.05031797808180602,\n",
              " 0.04663834979935701,\n",
              " 0.041761903644427764,\n",
              " 0.03904911646680591,\n",
              " 0.03261446037594162,\n",
              " 0.03877689906835942,\n",
              " 0.04124093586464225,\n",
              " 0.03888484734705372,\n",
              " 0.04051345833431112,\n",
              " 0.036993405768192794,\n",
              " 0.03523337948513364,\n",
              " 0.033834745265529306,\n",
              " 0.028052472250252272,\n",
              " 0.029009926548236448,\n",
              " 0.03524745969539811,\n",
              " 0.035087883979067425,\n",
              " 0.03511604439959637,\n",
              " 0.03413512308450474,\n",
              " 0.04064487363011288,\n",
              " 0.04064487363011288,\n",
              " 0.04071996808485674,\n",
              " 0.03489545443878628,\n",
              " 0.03366108933893412,\n",
              " 0.03094830216131228,\n",
              " 0.03066669795602281,\n",
              " 0.03329969727547932,\n",
              " 0.02802900523314482,\n",
              " 0.024804637082580433,\n",
              " 0.022856874662661633,\n",
              " 0.023265200760331353,\n",
              " 0.019773308614741983,\n",
              " 0.019604346091568303,\n",
              " 0.013939408161828565,\n",
              " 0.01383145988313425,\n",
              " 0.008096120902072138,\n",
              " 0.007063572149344104,\n",
              " 0.00046934034214911324,\n",
              " 0.0021636589773073936,\n",
              " 0.006439349494285783,\n",
              " 0.007077652359608576,\n",
              " 0.0,\n",
              " 0.002600145495506072,\n",
              " 0.0010513223664140106,\n",
              " 0.0023279280970595895,\n",
              " 0.00547720179288011,\n",
              " 0.005045408678102929,\n",
              " 0.007096425973294539,\n",
              " 0.007256001689625237,\n",
              " 0.006711566892732272,\n",
              " 0.01097787060286768,\n",
              " 0.009705958275643585,\n",
              " 0.008950320324783524,\n",
              " 0.01188369746321545,\n",
              " 0.01673198319761575,\n",
              " 0.01679769084551662,\n",
              " 0.017051134630277145,\n",
              " 0.02448548564991905,\n",
              " 0.03275995588200785,\n",
              " 0.027484570436251854,\n",
              " 0.030563443080750013,\n",
              " 0.034407340482951215,\n",
              " 0.03762701523009411,\n",
              " 0.03842958721516908,\n",
              " 0.04067303405064182,\n",
              " 0.0416351817520475,\n",
              " 0.04373782648487551,\n",
              " 0.04656794874803463,\n",
              " 0.04167272897941943,\n",
              " 0.04061671320958392,\n",
              " 0.047473775608382424,\n",
              " 0.049815783915706485,\n",
              " 0.04408983174148734,\n",
              " 0.047032595686762255,\n",
              " 0.04189801234365101,\n",
              " 0.043536010137751394,\n",
              " 0.04410391195175181,\n",
              " 0.041668035575997936]"
            ]
          },
          "metadata": {},
          "execution_count": 45
        }
      ]
    },
    {
      "cell_type": "code",
      "source": [
        "# demonstrate prediction for next 10 days\n",
        "from numpy import array\n",
        "\n",
        "lst_output=[]\n",
        "n_steps=100\n",
        "i=0\n",
        "while(i<30):\n",
        "    \n",
        "    if(len(temp_input)>100):\n",
        "        #print(temp_input)\n",
        "        x_input=np.array(temp_input[1:])\n",
        "        print(\"{} day input {}\".format(i,x_input))\n",
        "        x_input=x_input.reshape(1,-1)\n",
        "        x_input = x_input.reshape((1, n_steps, 1))\n",
        "        #print(x_input)\n",
        "        yhat = model.predict(x_input, verbose=0)\n",
        "        print(\"{} day output {}\".format(i,yhat))\n",
        "        temp_input.extend(yhat[0].tolist())\n",
        "        temp_input=temp_input[1:]\n",
        "        #print(temp_input)\n",
        "        lst_output.extend(yhat.tolist())\n",
        "        i=i+1\n",
        "    else:\n",
        "        x_input = x_input.reshape((1, n_steps,1))\n",
        "        yhat = model.predict(x_input, verbose=0)\n",
        "        print(yhat[0])\n",
        "        temp_input.extend(yhat[0].tolist())\n",
        "        print(len(temp_input))\n",
        "        lst_output.extend(yhat.tolist())\n",
        "        i=i+1\n",
        "    \n",
        "\n",
        "print(lst_output)"
      ],
      "metadata": {
        "colab": {
          "base_uri": "https://localhost:8080/"
        },
        "id": "B_jlmH-rLZjW",
        "outputId": "d92c2be6-9d44-4e19-d594-1ba063a2ae9e"
      },
      "execution_count": 46,
      "outputs": [
        {
          "output_type": "stream",
          "name": "stdout",
          "text": [
            "[0.04550972]\n",
            "101\n",
            "1 day input [0.06633656 0.06228616 0.06102832 0.05396006 0.05390843 0.05087649\n",
            " 0.0512238  0.05332645 0.04547439 0.05221411 0.05260836 0.05347664\n",
            " 0.04654918 0.04990965 0.04841246 0.05365264 0.05469692 0.05490813\n",
            " 0.05651796 0.05605801 0.05618943 0.0501631  0.05031798 0.04663835\n",
            " 0.0417619  0.03904912 0.03261446 0.0387769  0.04124094 0.03888485\n",
            " 0.04051346 0.03699341 0.03523338 0.03383475 0.02805247 0.02900993\n",
            " 0.03524746 0.03508788 0.03511604 0.03413512 0.04064487 0.04064487\n",
            " 0.04071997 0.03489545 0.03366109 0.0309483  0.0306667  0.0332997\n",
            " 0.02802901 0.02480464 0.02285687 0.0232652  0.01977331 0.01960435\n",
            " 0.01393941 0.01383146 0.00809612 0.00706357 0.00046934 0.00216366\n",
            " 0.00643935 0.00707765 0.         0.00260015 0.00105132 0.00232793\n",
            " 0.0054772  0.00504541 0.00709643 0.007256   0.00671157 0.01097787\n",
            " 0.00970596 0.00895032 0.0118837  0.01673198 0.01679769 0.01705113\n",
            " 0.02448549 0.03275996 0.02748457 0.03056344 0.03440734 0.03762702\n",
            " 0.03842959 0.04067303 0.04163518 0.04373783 0.04656795 0.04167273\n",
            " 0.04061671 0.04747378 0.04981578 0.04408983 0.0470326  0.04189801\n",
            " 0.04353601 0.04410391 0.04166804 0.04550972]\n",
            "1 day output [[0.04507889]]\n",
            "2 day input [0.06228616 0.06102832 0.05396006 0.05390843 0.05087649 0.0512238\n",
            " 0.05332645 0.04547439 0.05221411 0.05260836 0.05347664 0.04654918\n",
            " 0.04990965 0.04841246 0.05365264 0.05469692 0.05490813 0.05651796\n",
            " 0.05605801 0.05618943 0.0501631  0.05031798 0.04663835 0.0417619\n",
            " 0.03904912 0.03261446 0.0387769  0.04124094 0.03888485 0.04051346\n",
            " 0.03699341 0.03523338 0.03383475 0.02805247 0.02900993 0.03524746\n",
            " 0.03508788 0.03511604 0.03413512 0.04064487 0.04064487 0.04071997\n",
            " 0.03489545 0.03366109 0.0309483  0.0306667  0.0332997  0.02802901\n",
            " 0.02480464 0.02285687 0.0232652  0.01977331 0.01960435 0.01393941\n",
            " 0.01383146 0.00809612 0.00706357 0.00046934 0.00216366 0.00643935\n",
            " 0.00707765 0.         0.00260015 0.00105132 0.00232793 0.0054772\n",
            " 0.00504541 0.00709643 0.007256   0.00671157 0.01097787 0.00970596\n",
            " 0.00895032 0.0118837  0.01673198 0.01679769 0.01705113 0.02448549\n",
            " 0.03275996 0.02748457 0.03056344 0.03440734 0.03762702 0.03842959\n",
            " 0.04067303 0.04163518 0.04373783 0.04656795 0.04167273 0.04061671\n",
            " 0.04747378 0.04981578 0.04408983 0.0470326  0.04189801 0.04353601\n",
            " 0.04410391 0.04166804 0.04550972 0.04507889]\n",
            "2 day output [[0.0448723]]\n",
            "3 day input [0.06102832 0.05396006 0.05390843 0.05087649 0.0512238  0.05332645\n",
            " 0.04547439 0.05221411 0.05260836 0.05347664 0.04654918 0.04990965\n",
            " 0.04841246 0.05365264 0.05469692 0.05490813 0.05651796 0.05605801\n",
            " 0.05618943 0.0501631  0.05031798 0.04663835 0.0417619  0.03904912\n",
            " 0.03261446 0.0387769  0.04124094 0.03888485 0.04051346 0.03699341\n",
            " 0.03523338 0.03383475 0.02805247 0.02900993 0.03524746 0.03508788\n",
            " 0.03511604 0.03413512 0.04064487 0.04064487 0.04071997 0.03489545\n",
            " 0.03366109 0.0309483  0.0306667  0.0332997  0.02802901 0.02480464\n",
            " 0.02285687 0.0232652  0.01977331 0.01960435 0.01393941 0.01383146\n",
            " 0.00809612 0.00706357 0.00046934 0.00216366 0.00643935 0.00707765\n",
            " 0.         0.00260015 0.00105132 0.00232793 0.0054772  0.00504541\n",
            " 0.00709643 0.007256   0.00671157 0.01097787 0.00970596 0.00895032\n",
            " 0.0118837  0.01673198 0.01679769 0.01705113 0.02448549 0.03275996\n",
            " 0.02748457 0.03056344 0.03440734 0.03762702 0.03842959 0.04067303\n",
            " 0.04163518 0.04373783 0.04656795 0.04167273 0.04061671 0.04747378\n",
            " 0.04981578 0.04408983 0.0470326  0.04189801 0.04353601 0.04410391\n",
            " 0.04166804 0.04550972 0.04507889 0.0448723 ]\n",
            "3 day output [[0.0448369]]\n",
            "4 day input [0.05396006 0.05390843 0.05087649 0.0512238  0.05332645 0.04547439\n",
            " 0.05221411 0.05260836 0.05347664 0.04654918 0.04990965 0.04841246\n",
            " 0.05365264 0.05469692 0.05490813 0.05651796 0.05605801 0.05618943\n",
            " 0.0501631  0.05031798 0.04663835 0.0417619  0.03904912 0.03261446\n",
            " 0.0387769  0.04124094 0.03888485 0.04051346 0.03699341 0.03523338\n",
            " 0.03383475 0.02805247 0.02900993 0.03524746 0.03508788 0.03511604\n",
            " 0.03413512 0.04064487 0.04064487 0.04071997 0.03489545 0.03366109\n",
            " 0.0309483  0.0306667  0.0332997  0.02802901 0.02480464 0.02285687\n",
            " 0.0232652  0.01977331 0.01960435 0.01393941 0.01383146 0.00809612\n",
            " 0.00706357 0.00046934 0.00216366 0.00643935 0.00707765 0.\n",
            " 0.00260015 0.00105132 0.00232793 0.0054772  0.00504541 0.00709643\n",
            " 0.007256   0.00671157 0.01097787 0.00970596 0.00895032 0.0118837\n",
            " 0.01673198 0.01679769 0.01705113 0.02448549 0.03275996 0.02748457\n",
            " 0.03056344 0.03440734 0.03762702 0.03842959 0.04067303 0.04163518\n",
            " 0.04373783 0.04656795 0.04167273 0.04061671 0.04747378 0.04981578\n",
            " 0.04408983 0.0470326  0.04189801 0.04353601 0.04410391 0.04166804\n",
            " 0.04550972 0.04507889 0.0448723  0.0448369 ]\n",
            "4 day output [[0.04489918]]\n",
            "5 day input [0.05390843 0.05087649 0.0512238  0.05332645 0.04547439 0.05221411\n",
            " 0.05260836 0.05347664 0.04654918 0.04990965 0.04841246 0.05365264\n",
            " 0.05469692 0.05490813 0.05651796 0.05605801 0.05618943 0.0501631\n",
            " 0.05031798 0.04663835 0.0417619  0.03904912 0.03261446 0.0387769\n",
            " 0.04124094 0.03888485 0.04051346 0.03699341 0.03523338 0.03383475\n",
            " 0.02805247 0.02900993 0.03524746 0.03508788 0.03511604 0.03413512\n",
            " 0.04064487 0.04064487 0.04071997 0.03489545 0.03366109 0.0309483\n",
            " 0.0306667  0.0332997  0.02802901 0.02480464 0.02285687 0.0232652\n",
            " 0.01977331 0.01960435 0.01393941 0.01383146 0.00809612 0.00706357\n",
            " 0.00046934 0.00216366 0.00643935 0.00707765 0.         0.00260015\n",
            " 0.00105132 0.00232793 0.0054772  0.00504541 0.00709643 0.007256\n",
            " 0.00671157 0.01097787 0.00970596 0.00895032 0.0118837  0.01673198\n",
            " 0.01679769 0.01705113 0.02448549 0.03275996 0.02748457 0.03056344\n",
            " 0.03440734 0.03762702 0.03842959 0.04067303 0.04163518 0.04373783\n",
            " 0.04656795 0.04167273 0.04061671 0.04747378 0.04981578 0.04408983\n",
            " 0.0470326  0.04189801 0.04353601 0.04410391 0.04166804 0.04550972\n",
            " 0.04507889 0.0448723  0.0448369  0.04489918]\n",
            "5 day output [[0.04500144]]\n",
            "6 day input [0.05087649 0.0512238  0.05332645 0.04547439 0.05221411 0.05260836\n",
            " 0.05347664 0.04654918 0.04990965 0.04841246 0.05365264 0.05469692\n",
            " 0.05490813 0.05651796 0.05605801 0.05618943 0.0501631  0.05031798\n",
            " 0.04663835 0.0417619  0.03904912 0.03261446 0.0387769  0.04124094\n",
            " 0.03888485 0.04051346 0.03699341 0.03523338 0.03383475 0.02805247\n",
            " 0.02900993 0.03524746 0.03508788 0.03511604 0.03413512 0.04064487\n",
            " 0.04064487 0.04071997 0.03489545 0.03366109 0.0309483  0.0306667\n",
            " 0.0332997  0.02802901 0.02480464 0.02285687 0.0232652  0.01977331\n",
            " 0.01960435 0.01393941 0.01383146 0.00809612 0.00706357 0.00046934\n",
            " 0.00216366 0.00643935 0.00707765 0.         0.00260015 0.00105132\n",
            " 0.00232793 0.0054772  0.00504541 0.00709643 0.007256   0.00671157\n",
            " 0.01097787 0.00970596 0.00895032 0.0118837  0.01673198 0.01679769\n",
            " 0.01705113 0.02448549 0.03275996 0.02748457 0.03056344 0.03440734\n",
            " 0.03762702 0.03842959 0.04067303 0.04163518 0.04373783 0.04656795\n",
            " 0.04167273 0.04061671 0.04747378 0.04981578 0.04408983 0.0470326\n",
            " 0.04189801 0.04353601 0.04410391 0.04166804 0.04550972 0.04507889\n",
            " 0.0448723  0.0448369  0.04489918 0.04500144]\n",
            "6 day output [[0.04510883]]\n",
            "7 day input [0.0512238  0.05332645 0.04547439 0.05221411 0.05260836 0.05347664\n",
            " 0.04654918 0.04990965 0.04841246 0.05365264 0.05469692 0.05490813\n",
            " 0.05651796 0.05605801 0.05618943 0.0501631  0.05031798 0.04663835\n",
            " 0.0417619  0.03904912 0.03261446 0.0387769  0.04124094 0.03888485\n",
            " 0.04051346 0.03699341 0.03523338 0.03383475 0.02805247 0.02900993\n",
            " 0.03524746 0.03508788 0.03511604 0.03413512 0.04064487 0.04064487\n",
            " 0.04071997 0.03489545 0.03366109 0.0309483  0.0306667  0.0332997\n",
            " 0.02802901 0.02480464 0.02285687 0.0232652  0.01977331 0.01960435\n",
            " 0.01393941 0.01383146 0.00809612 0.00706357 0.00046934 0.00216366\n",
            " 0.00643935 0.00707765 0.         0.00260015 0.00105132 0.00232793\n",
            " 0.0054772  0.00504541 0.00709643 0.007256   0.00671157 0.01097787\n",
            " 0.00970596 0.00895032 0.0118837  0.01673198 0.01679769 0.01705113\n",
            " 0.02448549 0.03275996 0.02748457 0.03056344 0.03440734 0.03762702\n",
            " 0.03842959 0.04067303 0.04163518 0.04373783 0.04656795 0.04167273\n",
            " 0.04061671 0.04747378 0.04981578 0.04408983 0.0470326  0.04189801\n",
            " 0.04353601 0.04410391 0.04166804 0.04550972 0.04507889 0.0448723\n",
            " 0.0448369  0.04489918 0.04500144 0.04510883]\n",
            "7 day output [[0.04520508]]\n",
            "8 day input [0.05332645 0.04547439 0.05221411 0.05260836 0.05347664 0.04654918\n",
            " 0.04990965 0.04841246 0.05365264 0.05469692 0.05490813 0.05651796\n",
            " 0.05605801 0.05618943 0.0501631  0.05031798 0.04663835 0.0417619\n",
            " 0.03904912 0.03261446 0.0387769  0.04124094 0.03888485 0.04051346\n",
            " 0.03699341 0.03523338 0.03383475 0.02805247 0.02900993 0.03524746\n",
            " 0.03508788 0.03511604 0.03413512 0.04064487 0.04064487 0.04071997\n",
            " 0.03489545 0.03366109 0.0309483  0.0306667  0.0332997  0.02802901\n",
            " 0.02480464 0.02285687 0.0232652  0.01977331 0.01960435 0.01393941\n",
            " 0.01383146 0.00809612 0.00706357 0.00046934 0.00216366 0.00643935\n",
            " 0.00707765 0.         0.00260015 0.00105132 0.00232793 0.0054772\n",
            " 0.00504541 0.00709643 0.007256   0.00671157 0.01097787 0.00970596\n",
            " 0.00895032 0.0118837  0.01673198 0.01679769 0.01705113 0.02448549\n",
            " 0.03275996 0.02748457 0.03056344 0.03440734 0.03762702 0.03842959\n",
            " 0.04067303 0.04163518 0.04373783 0.04656795 0.04167273 0.04061671\n",
            " 0.04747378 0.04981578 0.04408983 0.0470326  0.04189801 0.04353601\n",
            " 0.04410391 0.04166804 0.04550972 0.04507889 0.0448723  0.0448369\n",
            " 0.04489918 0.04500144 0.04510883 0.04520508]\n",
            "8 day output [[0.04528563]]\n",
            "9 day input [0.04547439 0.05221411 0.05260836 0.05347664 0.04654918 0.04990965\n",
            " 0.04841246 0.05365264 0.05469692 0.05490813 0.05651796 0.05605801\n",
            " 0.05618943 0.0501631  0.05031798 0.04663835 0.0417619  0.03904912\n",
            " 0.03261446 0.0387769  0.04124094 0.03888485 0.04051346 0.03699341\n",
            " 0.03523338 0.03383475 0.02805247 0.02900993 0.03524746 0.03508788\n",
            " 0.03511604 0.03413512 0.04064487 0.04064487 0.04071997 0.03489545\n",
            " 0.03366109 0.0309483  0.0306667  0.0332997  0.02802901 0.02480464\n",
            " 0.02285687 0.0232652  0.01977331 0.01960435 0.01393941 0.01383146\n",
            " 0.00809612 0.00706357 0.00046934 0.00216366 0.00643935 0.00707765\n",
            " 0.         0.00260015 0.00105132 0.00232793 0.0054772  0.00504541\n",
            " 0.00709643 0.007256   0.00671157 0.01097787 0.00970596 0.00895032\n",
            " 0.0118837  0.01673198 0.01679769 0.01705113 0.02448549 0.03275996\n",
            " 0.02748457 0.03056344 0.03440734 0.03762702 0.03842959 0.04067303\n",
            " 0.04163518 0.04373783 0.04656795 0.04167273 0.04061671 0.04747378\n",
            " 0.04981578 0.04408983 0.0470326  0.04189801 0.04353601 0.04410391\n",
            " 0.04166804 0.04550972 0.04507889 0.0448723  0.0448369  0.04489918\n",
            " 0.04500144 0.04510883 0.04520508 0.04528563]\n",
            "9 day output [[0.04535206]]\n",
            "10 day input [0.05221411 0.05260836 0.05347664 0.04654918 0.04990965 0.04841246\n",
            " 0.05365264 0.05469692 0.05490813 0.05651796 0.05605801 0.05618943\n",
            " 0.0501631  0.05031798 0.04663835 0.0417619  0.03904912 0.03261446\n",
            " 0.0387769  0.04124094 0.03888485 0.04051346 0.03699341 0.03523338\n",
            " 0.03383475 0.02805247 0.02900993 0.03524746 0.03508788 0.03511604\n",
            " 0.03413512 0.04064487 0.04064487 0.04071997 0.03489545 0.03366109\n",
            " 0.0309483  0.0306667  0.0332997  0.02802901 0.02480464 0.02285687\n",
            " 0.0232652  0.01977331 0.01960435 0.01393941 0.01383146 0.00809612\n",
            " 0.00706357 0.00046934 0.00216366 0.00643935 0.00707765 0.\n",
            " 0.00260015 0.00105132 0.00232793 0.0054772  0.00504541 0.00709643\n",
            " 0.007256   0.00671157 0.01097787 0.00970596 0.00895032 0.0118837\n",
            " 0.01673198 0.01679769 0.01705113 0.02448549 0.03275996 0.02748457\n",
            " 0.03056344 0.03440734 0.03762702 0.03842959 0.04067303 0.04163518\n",
            " 0.04373783 0.04656795 0.04167273 0.04061671 0.04747378 0.04981578\n",
            " 0.04408983 0.0470326  0.04189801 0.04353601 0.04410391 0.04166804\n",
            " 0.04550972 0.04507889 0.0448723  0.0448369  0.04489918 0.04500144\n",
            " 0.04510883 0.04520508 0.04528563 0.04535206]\n",
            "10 day output [[0.04540838]]\n",
            "11 day input [0.05260836 0.05347664 0.04654918 0.04990965 0.04841246 0.05365264\n",
            " 0.05469692 0.05490813 0.05651796 0.05605801 0.05618943 0.0501631\n",
            " 0.05031798 0.04663835 0.0417619  0.03904912 0.03261446 0.0387769\n",
            " 0.04124094 0.03888485 0.04051346 0.03699341 0.03523338 0.03383475\n",
            " 0.02805247 0.02900993 0.03524746 0.03508788 0.03511604 0.03413512\n",
            " 0.04064487 0.04064487 0.04071997 0.03489545 0.03366109 0.0309483\n",
            " 0.0306667  0.0332997  0.02802901 0.02480464 0.02285687 0.0232652\n",
            " 0.01977331 0.01960435 0.01393941 0.01383146 0.00809612 0.00706357\n",
            " 0.00046934 0.00216366 0.00643935 0.00707765 0.         0.00260015\n",
            " 0.00105132 0.00232793 0.0054772  0.00504541 0.00709643 0.007256\n",
            " 0.00671157 0.01097787 0.00970596 0.00895032 0.0118837  0.01673198\n",
            " 0.01679769 0.01705113 0.02448549 0.03275996 0.02748457 0.03056344\n",
            " 0.03440734 0.03762702 0.03842959 0.04067303 0.04163518 0.04373783\n",
            " 0.04656795 0.04167273 0.04061671 0.04747378 0.04981578 0.04408983\n",
            " 0.0470326  0.04189801 0.04353601 0.04410391 0.04166804 0.04550972\n",
            " 0.04507889 0.0448723  0.0448369  0.04489918 0.04500144 0.04510883\n",
            " 0.04520508 0.04528563 0.04535206 0.04540838]\n",
            "11 day output [[0.04545897]]\n",
            "12 day input [0.05347664 0.04654918 0.04990965 0.04841246 0.05365264 0.05469692\n",
            " 0.05490813 0.05651796 0.05605801 0.05618943 0.0501631  0.05031798\n",
            " 0.04663835 0.0417619  0.03904912 0.03261446 0.0387769  0.04124094\n",
            " 0.03888485 0.04051346 0.03699341 0.03523338 0.03383475 0.02805247\n",
            " 0.02900993 0.03524746 0.03508788 0.03511604 0.03413512 0.04064487\n",
            " 0.04064487 0.04071997 0.03489545 0.03366109 0.0309483  0.0306667\n",
            " 0.0332997  0.02802901 0.02480464 0.02285687 0.0232652  0.01977331\n",
            " 0.01960435 0.01393941 0.01383146 0.00809612 0.00706357 0.00046934\n",
            " 0.00216366 0.00643935 0.00707765 0.         0.00260015 0.00105132\n",
            " 0.00232793 0.0054772  0.00504541 0.00709643 0.007256   0.00671157\n",
            " 0.01097787 0.00970596 0.00895032 0.0118837  0.01673198 0.01679769\n",
            " 0.01705113 0.02448549 0.03275996 0.02748457 0.03056344 0.03440734\n",
            " 0.03762702 0.03842959 0.04067303 0.04163518 0.04373783 0.04656795\n",
            " 0.04167273 0.04061671 0.04747378 0.04981578 0.04408983 0.0470326\n",
            " 0.04189801 0.04353601 0.04410391 0.04166804 0.04550972 0.04507889\n",
            " 0.0448723  0.0448369  0.04489918 0.04500144 0.04510883 0.04520508\n",
            " 0.04528563 0.04535206 0.04540838 0.04545897]\n",
            "12 day output [[0.04550773]]\n",
            "13 day input [0.04654918 0.04990965 0.04841246 0.05365264 0.05469692 0.05490813\n",
            " 0.05651796 0.05605801 0.05618943 0.0501631  0.05031798 0.04663835\n",
            " 0.0417619  0.03904912 0.03261446 0.0387769  0.04124094 0.03888485\n",
            " 0.04051346 0.03699341 0.03523338 0.03383475 0.02805247 0.02900993\n",
            " 0.03524746 0.03508788 0.03511604 0.03413512 0.04064487 0.04064487\n",
            " 0.04071997 0.03489545 0.03366109 0.0309483  0.0306667  0.0332997\n",
            " 0.02802901 0.02480464 0.02285687 0.0232652  0.01977331 0.01960435\n",
            " 0.01393941 0.01383146 0.00809612 0.00706357 0.00046934 0.00216366\n",
            " 0.00643935 0.00707765 0.         0.00260015 0.00105132 0.00232793\n",
            " 0.0054772  0.00504541 0.00709643 0.007256   0.00671157 0.01097787\n",
            " 0.00970596 0.00895032 0.0118837  0.01673198 0.01679769 0.01705113\n",
            " 0.02448549 0.03275996 0.02748457 0.03056344 0.03440734 0.03762702\n",
            " 0.03842959 0.04067303 0.04163518 0.04373783 0.04656795 0.04167273\n",
            " 0.04061671 0.04747378 0.04981578 0.04408983 0.0470326  0.04189801\n",
            " 0.04353601 0.04410391 0.04166804 0.04550972 0.04507889 0.0448723\n",
            " 0.0448369  0.04489918 0.04500144 0.04510883 0.04520508 0.04528563\n",
            " 0.04535206 0.04540838 0.04545897 0.04550773]\n",
            "13 day output [[0.04555771]]\n",
            "14 day input [0.04990965 0.04841246 0.05365264 0.05469692 0.05490813 0.05651796\n",
            " 0.05605801 0.05618943 0.0501631  0.05031798 0.04663835 0.0417619\n",
            " 0.03904912 0.03261446 0.0387769  0.04124094 0.03888485 0.04051346\n",
            " 0.03699341 0.03523338 0.03383475 0.02805247 0.02900993 0.03524746\n",
            " 0.03508788 0.03511604 0.03413512 0.04064487 0.04064487 0.04071997\n",
            " 0.03489545 0.03366109 0.0309483  0.0306667  0.0332997  0.02802901\n",
            " 0.02480464 0.02285687 0.0232652  0.01977331 0.01960435 0.01393941\n",
            " 0.01383146 0.00809612 0.00706357 0.00046934 0.00216366 0.00643935\n",
            " 0.00707765 0.         0.00260015 0.00105132 0.00232793 0.0054772\n",
            " 0.00504541 0.00709643 0.007256   0.00671157 0.01097787 0.00970596\n",
            " 0.00895032 0.0118837  0.01673198 0.01679769 0.01705113 0.02448549\n",
            " 0.03275996 0.02748457 0.03056344 0.03440734 0.03762702 0.03842959\n",
            " 0.04067303 0.04163518 0.04373783 0.04656795 0.04167273 0.04061671\n",
            " 0.04747378 0.04981578 0.04408983 0.0470326  0.04189801 0.04353601\n",
            " 0.04410391 0.04166804 0.04550972 0.04507889 0.0448723  0.0448369\n",
            " 0.04489918 0.04500144 0.04510883 0.04520508 0.04528563 0.04535206\n",
            " 0.04540838 0.04545897 0.04550773 0.04555771]\n",
            "14 day output [[0.04561107]]\n",
            "15 day input [0.04841246 0.05365264 0.05469692 0.05490813 0.05651796 0.05605801\n",
            " 0.05618943 0.0501631  0.05031798 0.04663835 0.0417619  0.03904912\n",
            " 0.03261446 0.0387769  0.04124094 0.03888485 0.04051346 0.03699341\n",
            " 0.03523338 0.03383475 0.02805247 0.02900993 0.03524746 0.03508788\n",
            " 0.03511604 0.03413512 0.04064487 0.04064487 0.04071997 0.03489545\n",
            " 0.03366109 0.0309483  0.0306667  0.0332997  0.02802901 0.02480464\n",
            " 0.02285687 0.0232652  0.01977331 0.01960435 0.01393941 0.01383146\n",
            " 0.00809612 0.00706357 0.00046934 0.00216366 0.00643935 0.00707765\n",
            " 0.         0.00260015 0.00105132 0.00232793 0.0054772  0.00504541\n",
            " 0.00709643 0.007256   0.00671157 0.01097787 0.00970596 0.00895032\n",
            " 0.0118837  0.01673198 0.01679769 0.01705113 0.02448549 0.03275996\n",
            " 0.02748457 0.03056344 0.03440734 0.03762702 0.03842959 0.04067303\n",
            " 0.04163518 0.04373783 0.04656795 0.04167273 0.04061671 0.04747378\n",
            " 0.04981578 0.04408983 0.0470326  0.04189801 0.04353601 0.04410391\n",
            " 0.04166804 0.04550972 0.04507889 0.0448723  0.0448369  0.04489918\n",
            " 0.04500144 0.04510883 0.04520508 0.04528563 0.04535206 0.04540838\n",
            " 0.04545897 0.04550773 0.04555771 0.04561107]\n",
            "15 day output [[0.04566915]]\n",
            "16 day input [0.05365264 0.05469692 0.05490813 0.05651796 0.05605801 0.05618943\n",
            " 0.0501631  0.05031798 0.04663835 0.0417619  0.03904912 0.03261446\n",
            " 0.0387769  0.04124094 0.03888485 0.04051346 0.03699341 0.03523338\n",
            " 0.03383475 0.02805247 0.02900993 0.03524746 0.03508788 0.03511604\n",
            " 0.03413512 0.04064487 0.04064487 0.04071997 0.03489545 0.03366109\n",
            " 0.0309483  0.0306667  0.0332997  0.02802901 0.02480464 0.02285687\n",
            " 0.0232652  0.01977331 0.01960435 0.01393941 0.01383146 0.00809612\n",
            " 0.00706357 0.00046934 0.00216366 0.00643935 0.00707765 0.\n",
            " 0.00260015 0.00105132 0.00232793 0.0054772  0.00504541 0.00709643\n",
            " 0.007256   0.00671157 0.01097787 0.00970596 0.00895032 0.0118837\n",
            " 0.01673198 0.01679769 0.01705113 0.02448549 0.03275996 0.02748457\n",
            " 0.03056344 0.03440734 0.03762702 0.03842959 0.04067303 0.04163518\n",
            " 0.04373783 0.04656795 0.04167273 0.04061671 0.04747378 0.04981578\n",
            " 0.04408983 0.0470326  0.04189801 0.04353601 0.04410391 0.04166804\n",
            " 0.04550972 0.04507889 0.0448723  0.0448369  0.04489918 0.04500144\n",
            " 0.04510883 0.04520508 0.04528563 0.04535206 0.04540838 0.04545897\n",
            " 0.04550773 0.04555771 0.04561107 0.04566915]\n",
            "16 day output [[0.0457327]]\n",
            "17 day input [0.05469692 0.05490813 0.05651796 0.05605801 0.05618943 0.0501631\n",
            " 0.05031798 0.04663835 0.0417619  0.03904912 0.03261446 0.0387769\n",
            " 0.04124094 0.03888485 0.04051346 0.03699341 0.03523338 0.03383475\n",
            " 0.02805247 0.02900993 0.03524746 0.03508788 0.03511604 0.03413512\n",
            " 0.04064487 0.04064487 0.04071997 0.03489545 0.03366109 0.0309483\n",
            " 0.0306667  0.0332997  0.02802901 0.02480464 0.02285687 0.0232652\n",
            " 0.01977331 0.01960435 0.01393941 0.01383146 0.00809612 0.00706357\n",
            " 0.00046934 0.00216366 0.00643935 0.00707765 0.         0.00260015\n",
            " 0.00105132 0.00232793 0.0054772  0.00504541 0.00709643 0.007256\n",
            " 0.00671157 0.01097787 0.00970596 0.00895032 0.0118837  0.01673198\n",
            " 0.01679769 0.01705113 0.02448549 0.03275996 0.02748457 0.03056344\n",
            " 0.03440734 0.03762702 0.03842959 0.04067303 0.04163518 0.04373783\n",
            " 0.04656795 0.04167273 0.04061671 0.04747378 0.04981578 0.04408983\n",
            " 0.0470326  0.04189801 0.04353601 0.04410391 0.04166804 0.04550972\n",
            " 0.04507889 0.0448723  0.0448369  0.04489918 0.04500144 0.04510883\n",
            " 0.04520508 0.04528563 0.04535206 0.04540838 0.04545897 0.04550773\n",
            " 0.04555771 0.04561107 0.04566915 0.0457327 ]\n",
            "17 day output [[0.04580186]]\n",
            "18 day input [0.05490813 0.05651796 0.05605801 0.05618943 0.0501631  0.05031798\n",
            " 0.04663835 0.0417619  0.03904912 0.03261446 0.0387769  0.04124094\n",
            " 0.03888485 0.04051346 0.03699341 0.03523338 0.03383475 0.02805247\n",
            " 0.02900993 0.03524746 0.03508788 0.03511604 0.03413512 0.04064487\n",
            " 0.04064487 0.04071997 0.03489545 0.03366109 0.0309483  0.0306667\n",
            " 0.0332997  0.02802901 0.02480464 0.02285687 0.0232652  0.01977331\n",
            " 0.01960435 0.01393941 0.01383146 0.00809612 0.00706357 0.00046934\n",
            " 0.00216366 0.00643935 0.00707765 0.         0.00260015 0.00105132\n",
            " 0.00232793 0.0054772  0.00504541 0.00709643 0.007256   0.00671157\n",
            " 0.01097787 0.00970596 0.00895032 0.0118837  0.01673198 0.01679769\n",
            " 0.01705113 0.02448549 0.03275996 0.02748457 0.03056344 0.03440734\n",
            " 0.03762702 0.03842959 0.04067303 0.04163518 0.04373783 0.04656795\n",
            " 0.04167273 0.04061671 0.04747378 0.04981578 0.04408983 0.0470326\n",
            " 0.04189801 0.04353601 0.04410391 0.04166804 0.04550972 0.04507889\n",
            " 0.0448723  0.0448369  0.04489918 0.04500144 0.04510883 0.04520508\n",
            " 0.04528563 0.04535206 0.04540838 0.04545897 0.04550773 0.04555771\n",
            " 0.04561107 0.04566915 0.0457327  0.04580186]\n",
            "18 day output [[0.04587641]]\n",
            "19 day input [0.05651796 0.05605801 0.05618943 0.0501631  0.05031798 0.04663835\n",
            " 0.0417619  0.03904912 0.03261446 0.0387769  0.04124094 0.03888485\n",
            " 0.04051346 0.03699341 0.03523338 0.03383475 0.02805247 0.02900993\n",
            " 0.03524746 0.03508788 0.03511604 0.03413512 0.04064487 0.04064487\n",
            " 0.04071997 0.03489545 0.03366109 0.0309483  0.0306667  0.0332997\n",
            " 0.02802901 0.02480464 0.02285687 0.0232652  0.01977331 0.01960435\n",
            " 0.01393941 0.01383146 0.00809612 0.00706357 0.00046934 0.00216366\n",
            " 0.00643935 0.00707765 0.         0.00260015 0.00105132 0.00232793\n",
            " 0.0054772  0.00504541 0.00709643 0.007256   0.00671157 0.01097787\n",
            " 0.00970596 0.00895032 0.0118837  0.01673198 0.01679769 0.01705113\n",
            " 0.02448549 0.03275996 0.02748457 0.03056344 0.03440734 0.03762702\n",
            " 0.03842959 0.04067303 0.04163518 0.04373783 0.04656795 0.04167273\n",
            " 0.04061671 0.04747378 0.04981578 0.04408983 0.0470326  0.04189801\n",
            " 0.04353601 0.04410391 0.04166804 0.04550972 0.04507889 0.0448723\n",
            " 0.0448369  0.04489918 0.04500144 0.04510883 0.04520508 0.04528563\n",
            " 0.04535206 0.04540838 0.04545897 0.04550773 0.04555771 0.04561107\n",
            " 0.04566915 0.0457327  0.04580186 0.04587641]\n",
            "19 day output [[0.04595587]]\n",
            "20 day input [0.05605801 0.05618943 0.0501631  0.05031798 0.04663835 0.0417619\n",
            " 0.03904912 0.03261446 0.0387769  0.04124094 0.03888485 0.04051346\n",
            " 0.03699341 0.03523338 0.03383475 0.02805247 0.02900993 0.03524746\n",
            " 0.03508788 0.03511604 0.03413512 0.04064487 0.04064487 0.04071997\n",
            " 0.03489545 0.03366109 0.0309483  0.0306667  0.0332997  0.02802901\n",
            " 0.02480464 0.02285687 0.0232652  0.01977331 0.01960435 0.01393941\n",
            " 0.01383146 0.00809612 0.00706357 0.00046934 0.00216366 0.00643935\n",
            " 0.00707765 0.         0.00260015 0.00105132 0.00232793 0.0054772\n",
            " 0.00504541 0.00709643 0.007256   0.00671157 0.01097787 0.00970596\n",
            " 0.00895032 0.0118837  0.01673198 0.01679769 0.01705113 0.02448549\n",
            " 0.03275996 0.02748457 0.03056344 0.03440734 0.03762702 0.03842959\n",
            " 0.04067303 0.04163518 0.04373783 0.04656795 0.04167273 0.04061671\n",
            " 0.04747378 0.04981578 0.04408983 0.0470326  0.04189801 0.04353601\n",
            " 0.04410391 0.04166804 0.04550972 0.04507889 0.0448723  0.0448369\n",
            " 0.04489918 0.04500144 0.04510883 0.04520508 0.04528563 0.04535206\n",
            " 0.04540838 0.04545897 0.04550773 0.04555771 0.04561107 0.04566915\n",
            " 0.0457327  0.04580186 0.04587641 0.04595587]\n",
            "20 day output [[0.04603954]]\n",
            "21 day input [0.05618943 0.0501631  0.05031798 0.04663835 0.0417619  0.03904912\n",
            " 0.03261446 0.0387769  0.04124094 0.03888485 0.04051346 0.03699341\n",
            " 0.03523338 0.03383475 0.02805247 0.02900993 0.03524746 0.03508788\n",
            " 0.03511604 0.03413512 0.04064487 0.04064487 0.04071997 0.03489545\n",
            " 0.03366109 0.0309483  0.0306667  0.0332997  0.02802901 0.02480464\n",
            " 0.02285687 0.0232652  0.01977331 0.01960435 0.01393941 0.01383146\n",
            " 0.00809612 0.00706357 0.00046934 0.00216366 0.00643935 0.00707765\n",
            " 0.         0.00260015 0.00105132 0.00232793 0.0054772  0.00504541\n",
            " 0.00709643 0.007256   0.00671157 0.01097787 0.00970596 0.00895032\n",
            " 0.0118837  0.01673198 0.01679769 0.01705113 0.02448549 0.03275996\n",
            " 0.02748457 0.03056344 0.03440734 0.03762702 0.03842959 0.04067303\n",
            " 0.04163518 0.04373783 0.04656795 0.04167273 0.04061671 0.04747378\n",
            " 0.04981578 0.04408983 0.0470326  0.04189801 0.04353601 0.04410391\n",
            " 0.04166804 0.04550972 0.04507889 0.0448723  0.0448369  0.04489918\n",
            " 0.04500144 0.04510883 0.04520508 0.04528563 0.04535206 0.04540838\n",
            " 0.04545897 0.04550773 0.04555771 0.04561107 0.04566915 0.0457327\n",
            " 0.04580186 0.04587641 0.04595587 0.04603954]\n",
            "21 day output [[0.04612667]]\n",
            "22 day input [0.0501631  0.05031798 0.04663835 0.0417619  0.03904912 0.03261446\n",
            " 0.0387769  0.04124094 0.03888485 0.04051346 0.03699341 0.03523338\n",
            " 0.03383475 0.02805247 0.02900993 0.03524746 0.03508788 0.03511604\n",
            " 0.03413512 0.04064487 0.04064487 0.04071997 0.03489545 0.03366109\n",
            " 0.0309483  0.0306667  0.0332997  0.02802901 0.02480464 0.02285687\n",
            " 0.0232652  0.01977331 0.01960435 0.01393941 0.01383146 0.00809612\n",
            " 0.00706357 0.00046934 0.00216366 0.00643935 0.00707765 0.\n",
            " 0.00260015 0.00105132 0.00232793 0.0054772  0.00504541 0.00709643\n",
            " 0.007256   0.00671157 0.01097787 0.00970596 0.00895032 0.0118837\n",
            " 0.01673198 0.01679769 0.01705113 0.02448549 0.03275996 0.02748457\n",
            " 0.03056344 0.03440734 0.03762702 0.03842959 0.04067303 0.04163518\n",
            " 0.04373783 0.04656795 0.04167273 0.04061671 0.04747378 0.04981578\n",
            " 0.04408983 0.0470326  0.04189801 0.04353601 0.04410391 0.04166804\n",
            " 0.04550972 0.04507889 0.0448723  0.0448369  0.04489918 0.04500144\n",
            " 0.04510883 0.04520508 0.04528563 0.04535206 0.04540838 0.04545897\n",
            " 0.04550773 0.04555771 0.04561107 0.04566915 0.0457327  0.04580186\n",
            " 0.04587641 0.04595587 0.04603954 0.04612667]\n",
            "22 day output [[0.04621648]]\n",
            "23 day input [0.05031798 0.04663835 0.0417619  0.03904912 0.03261446 0.0387769\n",
            " 0.04124094 0.03888485 0.04051346 0.03699341 0.03523338 0.03383475\n",
            " 0.02805247 0.02900993 0.03524746 0.03508788 0.03511604 0.03413512\n",
            " 0.04064487 0.04064487 0.04071997 0.03489545 0.03366109 0.0309483\n",
            " 0.0306667  0.0332997  0.02802901 0.02480464 0.02285687 0.0232652\n",
            " 0.01977331 0.01960435 0.01393941 0.01383146 0.00809612 0.00706357\n",
            " 0.00046934 0.00216366 0.00643935 0.00707765 0.         0.00260015\n",
            " 0.00105132 0.00232793 0.0054772  0.00504541 0.00709643 0.007256\n",
            " 0.00671157 0.01097787 0.00970596 0.00895032 0.0118837  0.01673198\n",
            " 0.01679769 0.01705113 0.02448549 0.03275996 0.02748457 0.03056344\n",
            " 0.03440734 0.03762702 0.03842959 0.04067303 0.04163518 0.04373783\n",
            " 0.04656795 0.04167273 0.04061671 0.04747378 0.04981578 0.04408983\n",
            " 0.0470326  0.04189801 0.04353601 0.04410391 0.04166804 0.04550972\n",
            " 0.04507889 0.0448723  0.0448369  0.04489918 0.04500144 0.04510883\n",
            " 0.04520508 0.04528563 0.04535206 0.04540838 0.04545897 0.04550773\n",
            " 0.04555771 0.04561107 0.04566915 0.0457327  0.04580186 0.04587641\n",
            " 0.04595587 0.04603954 0.04612667 0.04621648]\n",
            "23 day output [[0.04630825]]\n",
            "24 day input [0.04663835 0.0417619  0.03904912 0.03261446 0.0387769  0.04124094\n",
            " 0.03888485 0.04051346 0.03699341 0.03523338 0.03383475 0.02805247\n",
            " 0.02900993 0.03524746 0.03508788 0.03511604 0.03413512 0.04064487\n",
            " 0.04064487 0.04071997 0.03489545 0.03366109 0.0309483  0.0306667\n",
            " 0.0332997  0.02802901 0.02480464 0.02285687 0.0232652  0.01977331\n",
            " 0.01960435 0.01393941 0.01383146 0.00809612 0.00706357 0.00046934\n",
            " 0.00216366 0.00643935 0.00707765 0.         0.00260015 0.00105132\n",
            " 0.00232793 0.0054772  0.00504541 0.00709643 0.007256   0.00671157\n",
            " 0.01097787 0.00970596 0.00895032 0.0118837  0.01673198 0.01679769\n",
            " 0.01705113 0.02448549 0.03275996 0.02748457 0.03056344 0.03440734\n",
            " 0.03762702 0.03842959 0.04067303 0.04163518 0.04373783 0.04656795\n",
            " 0.04167273 0.04061671 0.04747378 0.04981578 0.04408983 0.0470326\n",
            " 0.04189801 0.04353601 0.04410391 0.04166804 0.04550972 0.04507889\n",
            " 0.0448723  0.0448369  0.04489918 0.04500144 0.04510883 0.04520508\n",
            " 0.04528563 0.04535206 0.04540838 0.04545897 0.04550773 0.04555771\n",
            " 0.04561107 0.04566915 0.0457327  0.04580186 0.04587641 0.04595587\n",
            " 0.04603954 0.04612667 0.04621648 0.04630825]\n",
            "24 day output [[0.04640133]]\n",
            "25 day input [0.0417619  0.03904912 0.03261446 0.0387769  0.04124094 0.03888485\n",
            " 0.04051346 0.03699341 0.03523338 0.03383475 0.02805247 0.02900993\n",
            " 0.03524746 0.03508788 0.03511604 0.03413512 0.04064487 0.04064487\n",
            " 0.04071997 0.03489545 0.03366109 0.0309483  0.0306667  0.0332997\n",
            " 0.02802901 0.02480464 0.02285687 0.0232652  0.01977331 0.01960435\n",
            " 0.01393941 0.01383146 0.00809612 0.00706357 0.00046934 0.00216366\n",
            " 0.00643935 0.00707765 0.         0.00260015 0.00105132 0.00232793\n",
            " 0.0054772  0.00504541 0.00709643 0.007256   0.00671157 0.01097787\n",
            " 0.00970596 0.00895032 0.0118837  0.01673198 0.01679769 0.01705113\n",
            " 0.02448549 0.03275996 0.02748457 0.03056344 0.03440734 0.03762702\n",
            " 0.03842959 0.04067303 0.04163518 0.04373783 0.04656795 0.04167273\n",
            " 0.04061671 0.04747378 0.04981578 0.04408983 0.0470326  0.04189801\n",
            " 0.04353601 0.04410391 0.04166804 0.04550972 0.04507889 0.0448723\n",
            " 0.0448369  0.04489918 0.04500144 0.04510883 0.04520508 0.04528563\n",
            " 0.04535206 0.04540838 0.04545897 0.04550773 0.04555771 0.04561107\n",
            " 0.04566915 0.0457327  0.04580186 0.04587641 0.04595587 0.04603954\n",
            " 0.04612667 0.04621648 0.04630825 0.04640133]\n",
            "25 day output [[0.0464952]]\n",
            "26 day input [0.03904912 0.03261446 0.0387769  0.04124094 0.03888485 0.04051346\n",
            " 0.03699341 0.03523338 0.03383475 0.02805247 0.02900993 0.03524746\n",
            " 0.03508788 0.03511604 0.03413512 0.04064487 0.04064487 0.04071997\n",
            " 0.03489545 0.03366109 0.0309483  0.0306667  0.0332997  0.02802901\n",
            " 0.02480464 0.02285687 0.0232652  0.01977331 0.01960435 0.01393941\n",
            " 0.01383146 0.00809612 0.00706357 0.00046934 0.00216366 0.00643935\n",
            " 0.00707765 0.         0.00260015 0.00105132 0.00232793 0.0054772\n",
            " 0.00504541 0.00709643 0.007256   0.00671157 0.01097787 0.00970596\n",
            " 0.00895032 0.0118837  0.01673198 0.01679769 0.01705113 0.02448549\n",
            " 0.03275996 0.02748457 0.03056344 0.03440734 0.03762702 0.03842959\n",
            " 0.04067303 0.04163518 0.04373783 0.04656795 0.04167273 0.04061671\n",
            " 0.04747378 0.04981578 0.04408983 0.0470326  0.04189801 0.04353601\n",
            " 0.04410391 0.04166804 0.04550972 0.04507889 0.0448723  0.0448369\n",
            " 0.04489918 0.04500144 0.04510883 0.04520508 0.04528563 0.04535206\n",
            " 0.04540838 0.04545897 0.04550773 0.04555771 0.04561107 0.04566915\n",
            " 0.0457327  0.04580186 0.04587641 0.04595587 0.04603954 0.04612667\n",
            " 0.04621648 0.04630825 0.04640133 0.0464952 ]\n",
            "26 day output [[0.04658942]]\n",
            "27 day input [0.03261446 0.0387769  0.04124094 0.03888485 0.04051346 0.03699341\n",
            " 0.03523338 0.03383475 0.02805247 0.02900993 0.03524746 0.03508788\n",
            " 0.03511604 0.03413512 0.04064487 0.04064487 0.04071997 0.03489545\n",
            " 0.03366109 0.0309483  0.0306667  0.0332997  0.02802901 0.02480464\n",
            " 0.02285687 0.0232652  0.01977331 0.01960435 0.01393941 0.01383146\n",
            " 0.00809612 0.00706357 0.00046934 0.00216366 0.00643935 0.00707765\n",
            " 0.         0.00260015 0.00105132 0.00232793 0.0054772  0.00504541\n",
            " 0.00709643 0.007256   0.00671157 0.01097787 0.00970596 0.00895032\n",
            " 0.0118837  0.01673198 0.01679769 0.01705113 0.02448549 0.03275996\n",
            " 0.02748457 0.03056344 0.03440734 0.03762702 0.03842959 0.04067303\n",
            " 0.04163518 0.04373783 0.04656795 0.04167273 0.04061671 0.04747378\n",
            " 0.04981578 0.04408983 0.0470326  0.04189801 0.04353601 0.04410391\n",
            " 0.04166804 0.04550972 0.04507889 0.0448723  0.0448369  0.04489918\n",
            " 0.04500144 0.04510883 0.04520508 0.04528563 0.04535206 0.04540838\n",
            " 0.04545897 0.04550773 0.04555771 0.04561107 0.04566915 0.0457327\n",
            " 0.04580186 0.04587641 0.04595587 0.04603954 0.04612667 0.04621648\n",
            " 0.04630825 0.04640133 0.0464952  0.04658942]\n",
            "27 day output [[0.04668363]]\n",
            "28 day input [0.0387769  0.04124094 0.03888485 0.04051346 0.03699341 0.03523338\n",
            " 0.03383475 0.02805247 0.02900993 0.03524746 0.03508788 0.03511604\n",
            " 0.03413512 0.04064487 0.04064487 0.04071997 0.03489545 0.03366109\n",
            " 0.0309483  0.0306667  0.0332997  0.02802901 0.02480464 0.02285687\n",
            " 0.0232652  0.01977331 0.01960435 0.01393941 0.01383146 0.00809612\n",
            " 0.00706357 0.00046934 0.00216366 0.00643935 0.00707765 0.\n",
            " 0.00260015 0.00105132 0.00232793 0.0054772  0.00504541 0.00709643\n",
            " 0.007256   0.00671157 0.01097787 0.00970596 0.00895032 0.0118837\n",
            " 0.01673198 0.01679769 0.01705113 0.02448549 0.03275996 0.02748457\n",
            " 0.03056344 0.03440734 0.03762702 0.03842959 0.04067303 0.04163518\n",
            " 0.04373783 0.04656795 0.04167273 0.04061671 0.04747378 0.04981578\n",
            " 0.04408983 0.0470326  0.04189801 0.04353601 0.04410391 0.04166804\n",
            " 0.04550972 0.04507889 0.0448723  0.0448369  0.04489918 0.04500144\n",
            " 0.04510883 0.04520508 0.04528563 0.04535206 0.04540838 0.04545897\n",
            " 0.04550773 0.04555771 0.04561107 0.04566915 0.0457327  0.04580186\n",
            " 0.04587641 0.04595587 0.04603954 0.04612667 0.04621648 0.04630825\n",
            " 0.04640133 0.0464952  0.04658942 0.04668363]\n",
            "28 day output [[0.04677763]]\n",
            "29 day input [0.04124094 0.03888485 0.04051346 0.03699341 0.03523338 0.03383475\n",
            " 0.02805247 0.02900993 0.03524746 0.03508788 0.03511604 0.03413512\n",
            " 0.04064487 0.04064487 0.04071997 0.03489545 0.03366109 0.0309483\n",
            " 0.0306667  0.0332997  0.02802901 0.02480464 0.02285687 0.0232652\n",
            " 0.01977331 0.01960435 0.01393941 0.01383146 0.00809612 0.00706357\n",
            " 0.00046934 0.00216366 0.00643935 0.00707765 0.         0.00260015\n",
            " 0.00105132 0.00232793 0.0054772  0.00504541 0.00709643 0.007256\n",
            " 0.00671157 0.01097787 0.00970596 0.00895032 0.0118837  0.01673198\n",
            " 0.01679769 0.01705113 0.02448549 0.03275996 0.02748457 0.03056344\n",
            " 0.03440734 0.03762702 0.03842959 0.04067303 0.04163518 0.04373783\n",
            " 0.04656795 0.04167273 0.04061671 0.04747378 0.04981578 0.04408983\n",
            " 0.0470326  0.04189801 0.04353601 0.04410391 0.04166804 0.04550972\n",
            " 0.04507889 0.0448723  0.0448369  0.04489918 0.04500144 0.04510883\n",
            " 0.04520508 0.04528563 0.04535206 0.04540838 0.04545897 0.04550773\n",
            " 0.04555771 0.04561107 0.04566915 0.0457327  0.04580186 0.04587641\n",
            " 0.04595587 0.04603954 0.04612667 0.04621648 0.04630825 0.04640133\n",
            " 0.0464952  0.04658942 0.04668363 0.04677763]\n",
            "29 day output [[0.04687124]]\n",
            "[[0.04550971835851669], [0.04507889226078987], [0.04487230256199837], [0.044836897403001785], [0.04489918053150177], [0.04500143602490425], [0.04510883241891861], [0.04520507529377937], [0.04528563469648361], [0.045352060347795486], [0.045408375561237335], [0.045458972454071045], [0.04550773277878761], [0.04555771127343178], [0.04561106860637665], [0.045669153332710266], [0.04573269560933113], [0.045801859349012375], [0.04587641358375549], [0.04595586657524109], [0.04603953659534454], [0.04612666741013527], [0.04621647670865059], [0.0463082455098629], [0.04640132933855057], [0.04649519920349121], [0.04658941552042961], [0.04668362811207771], [0.0467776283621788], [0.04687124490737915]]\n"
          ]
        }
      ]
    },
    {
      "cell_type": "code",
      "source": [
        "day_new=np.arange(1,101)\n",
        "day_pred=np.arange(101,131)"
      ],
      "metadata": {
        "id": "xLRBeaHdLpLX"
      },
      "execution_count": 47,
      "outputs": []
    },
    {
      "cell_type": "code",
      "source": [
        "import matplotlib.pyplot as plt"
      ],
      "metadata": {
        "id": "pXY7_4hULuXn"
      },
      "execution_count": 48,
      "outputs": []
    },
    {
      "cell_type": "code",
      "source": [
        "len(df1)"
      ],
      "metadata": {
        "colab": {
          "base_uri": "https://localhost:8080/"
        },
        "id": "VAGNH8VuLwum",
        "outputId": "45f71bf7-b3b3-419f-876a-13eebce3b2bb"
      },
      "execution_count": 49,
      "outputs": [
        {
          "output_type": "execute_result",
          "data": {
            "text/plain": [
              "1257"
            ]
          },
          "metadata": {},
          "execution_count": 49
        }
      ]
    },
    {
      "cell_type": "code",
      "source": [
        "plt.plot(day_new,scaler.inverse_transform(df1[1157:]))\n",
        "plt.plot(day_pred,scaler.inverse_transform(lst_output))"
      ],
      "metadata": {
        "colab": {
          "base_uri": "https://localhost:8080/",
          "height": 282
        },
        "id": "XEFFjCxGLywF",
        "outputId": "218e61c9-aaa1-469c-96d8-6d8dc1de4e2a"
      },
      "execution_count": 51,
      "outputs": [
        {
          "output_type": "execute_result",
          "data": {
            "text/plain": [
              "[<matplotlib.lines.Line2D at 0x7fc927af5eb0>]"
            ]
          },
          "metadata": {},
          "execution_count": 51
        },
        {
          "output_type": "display_data",
          "data": {
            "text/plain": [
              "<Figure size 432x288 with 1 Axes>"
            ],
            "image/png": "[encoded data removed]"
          },
          "metadata": {
            "needs_background": "light"
          }
        }
      ]
    },
    {
      "cell_type": "code",
      "source": [
        "df3=df1.tolist()\n",
        "df3.extend(lst_output)\n",
        "plt.plot(df3[1200:])"
      ],
      "metadata": {
        "colab": {
          "base_uri": "https://localhost:8080/",
          "height": 282
        },
        "id": "Z5kU0rPTL1W8",
        "outputId": "95e1f485-6784-4ad0-ec52-4ab37b515eaf"
      },
      "execution_count": 52,
      "outputs": [
        {
          "output_type": "execute_result",
          "data": {
            "text/plain": [
              "[<matplotlib.lines.Line2D at 0x7fc927b4c250>]"
            ]
          },
          "metadata": {},
          "execution_count": 52
        },
        {
          "output_type": "display_data",
          "data": {
            "text/plain": [
              "<Figure size 432x288 with 1 Axes>"
            ],
            "image/png": "[encoded data removed]"
          },
          "metadata": {
            "needs_background": "light"
          }
        }
      ]
    },
    {
      "cell_type": "code",
      "source": [
        "df3=scaler.inverse_transform(df3).tolist()"
      ],
      "metadata": {
        "id": "tmo1oKfHL3_t"
      },
      "execution_count": 53,
      "outputs": []
    },
    {
      "cell_type": "code",
      "source": [
        "plt.plot(df3)"
      ],
      "metadata": {
        "colab": {
          "base_uri": "https://localhost:8080/",
          "height": 282
        },
        "id": "Lycb9Z_VL560",
        "outputId": "bc439dd6-35f8-4f8a-d0ed-1bfce071e81a"
      },
      "execution_count": 54,
      "outputs": [
        {
          "output_type": "execute_result",
          "data": {
            "text/plain": [
              "[<matplotlib.lines.Line2D at 0x7fc92787e490>]"
            ]
          },
          "metadata": {},
          "execution_count": 54
        },
        {
          "output_type": "display_data",
          "data": {
            "text/plain": [
              "<Figure size 432x288 with 1 Axes>"
            ],
            "image/png": "[encoded data removed]"
          },
          "metadata": {
            "needs_background": "light"
          }
        }
      ]
    }
  ]
}